{
 "cells": [
  {
   "cell_type": "markdown",
   "metadata": {
    "deletable": true,
    "editable": true,
    "frozen": false,
    "tags": []
   },
   "source": [
    "# Preprocess "
   ]
  },
  {
   "cell_type": "markdown",
   "metadata": {
    "deletable": true,
    "editable": true,
    "frozen": false,
    "tags": []
   },
   "source": [
    "## import"
   ]
  },
  {
   "cell_type": "code",
   "execution_count": 1,
   "metadata": {
    "colab": {
     "base_uri": "https://localhost:8080/"
    },
    "deletable": true,
    "editable": true,
    "execution": {
     "iopub.execute_input": "2025-03-31T09:37:50.261846Z",
     "iopub.status.busy": "2025-03-31T09:37:50.261679Z",
     "iopub.status.idle": "2025-03-31T09:37:51.909049Z",
     "shell.execute_reply": "2025-03-31T09:37:51.908753Z",
     "shell.execute_reply.started": "2025-03-31T09:37:50.261833Z"
    },
    "frozen": false,
    "id": "iPBUvgX5YbFy",
    "outputId": "4c4659f4-9f02-475a-d2c3-3cbb977cca1f",
    "tags": []
   },
   "outputs": [
    {
     "name": "stderr",
     "output_type": "stream",
     "text": [
      "2025-03-31 13:07:51.313276: I tensorflow/core/util/port.cc:153] oneDNN custom operations are on. You may see slightly different numerical results due to floating-point round-off errors from different computation orders. To turn them off, set the environment variable `TF_ENABLE_ONEDNN_OPTS=0`.\n",
      "2025-03-31 13:07:51.319592: E external/local_xla/xla/stream_executor/cuda/cuda_fft.cc:477] Unable to register cuFFT factory: Attempting to register factory for plugin cuFFT when one has already been registered\n",
      "WARNING: All log messages before absl::InitializeLog() is called are written to STDERR\n",
      "E0000 00:00:1743413871.326802   16671 cuda_dnn.cc:8310] Unable to register cuDNN factory: Attempting to register factory for plugin cuDNN when one has already been registered\n",
      "E0000 00:00:1743413871.328956   16671 cuda_blas.cc:1418] Unable to register cuBLAS factory: Attempting to register factory for plugin cuBLAS when one has already been registered\n",
      "2025-03-31 13:07:51.336545: I tensorflow/core/platform/cpu_feature_guard.cc:210] This TensorFlow binary is optimized to use available CPU instructions in performance-critical operations.\n",
      "To enable the following instructions: AVX2 AVX_VNNI FMA, in other operations, rebuild TensorFlow with the appropriate compiler flags.\n"
     ]
    }
   ],
   "source": [
    "from sklearn.metrics import mean_squared_error,mean_absolute_error\n",
    "import matplotlib.pyplot as plt\n",
    "import mlflow\n",
    "import mlflow.tensorflow\n",
    "from tensorflow.keras.layers import Input, Dense\n",
    "from tensorflow.keras.models import Model\n",
    "import math\n",
    "import numpy as np\n",
    "import pandas as pd\n",
    "from sklearn.preprocessing import MinMaxScaler\n",
    "from tensorflow.keras.models import Sequential # type: ignore\n",
    "from tensorflow.keras.layers import Dense,LSTM,Dropout # type: ignore\n",
    "import tensorflow as tf\n",
    "from tensorflow.keras.losses import MeanSquaredError, MeanAbsoluteError\n",
    "from tensorflow.keras.callbacks import ModelCheckpoint # type: ignore\n",
    "import json\n",
    "import keras_tuner\n",
    "import keras_tuner as kt\n",
    "from keras_tuner import Hyperband\n",
    "from keras_tuner import RandomSearch\n",
    "plt.style.use('fivethirtyeight')\n",
    "import os"
   ]
  },
  {
   "cell_type": "code",
   "execution_count": null,
   "metadata": {
    "deletable": true,
    "editable": true,
    "execution": {
     "iopub.status.busy": "2025-03-31T14:23:15.381296Z",
     "iopub.status.idle": "2025-03-31T14:23:15.381368Z",
     "shell.execute_reply": "2025-03-31T14:23:15.381335Z",
     "shell.execute_reply.started": "2025-03-31T14:23:15.381332Z"
    },
    "frozen": false
   },
   "outputs": [],
   "source": [
    "## Params"
   ]
  },
  {
   "cell_type": "code",
   "execution_count": null,
   "metadata": {
    "deletable": true,
    "editable": true,
    "execution": {
     "iopub.status.busy": "2025-03-31T14:23:15.384401Z",
     "iopub.status.idle": "2025-03-31T14:23:15.384606Z",
     "shell.execute_reply": "2025-03-31T14:23:15.384542Z",
     "shell.execute_reply.started": "2025-03-31T14:23:15.384536Z"
    },
    "frozen": false
   },
   "outputs": [],
   "source": [
    "EPOCHS = 30\n",
    "BATCH_SIZE = 64"
   ]
  },
  {
   "cell_type": "markdown",
   "metadata": {
    "deletable": true,
    "editable": true,
    "execution": {
     "iopub.execute_input": "2024-10-28T08:07:34.557594Z",
     "iopub.status.busy": "2024-10-28T08:07:34.557054Z",
     "iopub.status.idle": "2024-10-28T08:07:34.563064Z",
     "shell.execute_reply": "2024-10-28T08:07:34.561913Z",
     "shell.execute_reply.started": "2024-10-28T08:07:34.557552Z"
    },
    "frozen": false,
    "tags": []
   },
   "source": [
    "## Creating Project Path and Reading csv"
   ]
  },
  {
   "cell_type": "code",
   "execution_count": 4,
   "metadata": {
    "deletable": true,
    "editable": true,
    "execution": {
     "iopub.execute_input": "2025-03-31T09:39:33.429768Z",
     "iopub.status.busy": "2025-03-31T09:39:33.429577Z",
     "iopub.status.idle": "2025-03-31T09:39:36.099854Z",
     "shell.execute_reply": "2025-03-31T09:39:36.099581Z",
     "shell.execute_reply.started": "2025-03-31T09:39:33.429752Z"
    },
    "frozen": false
   },
   "outputs": [
    {
     "data": {
      "text/html": [
       "<div>\n",
       "<style scoped>\n",
       "    .dataframe tbody tr th:only-of-type {\n",
       "        vertical-align: middle;\n",
       "    }\n",
       "\n",
       "    .dataframe tbody tr th {\n",
       "        vertical-align: top;\n",
       "    }\n",
       "\n",
       "    .dataframe thead th {\n",
       "        text-align: right;\n",
       "    }\n",
       "</style>\n",
       "<table border=\"1\" class=\"dataframe\">\n",
       "  <thead>\n",
       "    <tr style=\"text-align: right;\">\n",
       "      <th></th>\n",
       "      <th>Timestamp</th>\n",
       "      <th>Open</th>\n",
       "      <th>High</th>\n",
       "      <th>Low</th>\n",
       "      <th>Close</th>\n",
       "      <th>Volume</th>\n",
       "      <th>datetime</th>\n",
       "    </tr>\n",
       "  </thead>\n",
       "  <tbody>\n",
       "    <tr>\n",
       "      <th>0</th>\n",
       "      <td>1.325412e+09</td>\n",
       "      <td>4.58</td>\n",
       "      <td>4.58</td>\n",
       "      <td>4.58</td>\n",
       "      <td>4.58</td>\n",
       "      <td>0.000000</td>\n",
       "      <td>2012-01-01 10:01:00+00:00</td>\n",
       "    </tr>\n",
       "    <tr>\n",
       "      <th>1</th>\n",
       "      <td>1.325412e+09</td>\n",
       "      <td>4.58</td>\n",
       "      <td>4.58</td>\n",
       "      <td>4.58</td>\n",
       "      <td>4.58</td>\n",
       "      <td>0.000000</td>\n",
       "      <td>2012-01-01 10:02:00+00:00</td>\n",
       "    </tr>\n",
       "    <tr>\n",
       "      <th>2</th>\n",
       "      <td>1.325412e+09</td>\n",
       "      <td>4.58</td>\n",
       "      <td>4.58</td>\n",
       "      <td>4.58</td>\n",
       "      <td>4.58</td>\n",
       "      <td>0.000000</td>\n",
       "      <td>2012-01-01 10:03:00+00:00</td>\n",
       "    </tr>\n",
       "    <tr>\n",
       "      <th>3</th>\n",
       "      <td>1.325412e+09</td>\n",
       "      <td>4.58</td>\n",
       "      <td>4.58</td>\n",
       "      <td>4.58</td>\n",
       "      <td>4.58</td>\n",
       "      <td>0.000000</td>\n",
       "      <td>2012-01-01 10:04:00+00:00</td>\n",
       "    </tr>\n",
       "    <tr>\n",
       "      <th>4</th>\n",
       "      <td>1.325412e+09</td>\n",
       "      <td>4.58</td>\n",
       "      <td>4.58</td>\n",
       "      <td>4.58</td>\n",
       "      <td>4.58</td>\n",
       "      <td>0.000000</td>\n",
       "      <td>2012-01-01 10:05:00+00:00</td>\n",
       "    </tr>\n",
       "    <tr>\n",
       "      <th>...</th>\n",
       "      <td>...</td>\n",
       "      <td>...</td>\n",
       "      <td>...</td>\n",
       "      <td>...</td>\n",
       "      <td>...</td>\n",
       "      <td>...</td>\n",
       "      <td>...</td>\n",
       "    </tr>\n",
       "    <tr>\n",
       "      <th>6944795</th>\n",
       "      <td>1.742169e+09</td>\n",
       "      <td>82554.00</td>\n",
       "      <td>82554.00</td>\n",
       "      <td>82554.00</td>\n",
       "      <td>82554.00</td>\n",
       "      <td>0.072000</td>\n",
       "      <td>NaN</td>\n",
       "    </tr>\n",
       "    <tr>\n",
       "      <th>6944796</th>\n",
       "      <td>1.742169e+09</td>\n",
       "      <td>82584.00</td>\n",
       "      <td>82615.00</td>\n",
       "      <td>82584.00</td>\n",
       "      <td>82615.00</td>\n",
       "      <td>0.194670</td>\n",
       "      <td>NaN</td>\n",
       "    </tr>\n",
       "    <tr>\n",
       "      <th>6944797</th>\n",
       "      <td>1.742169e+09</td>\n",
       "      <td>82555.00</td>\n",
       "      <td>82555.00</td>\n",
       "      <td>82555.00</td>\n",
       "      <td>82555.00</td>\n",
       "      <td>0.002680</td>\n",
       "      <td>NaN</td>\n",
       "    </tr>\n",
       "    <tr>\n",
       "      <th>6944798</th>\n",
       "      <td>1.742170e+09</td>\n",
       "      <td>82555.00</td>\n",
       "      <td>82555.00</td>\n",
       "      <td>82555.00</td>\n",
       "      <td>82555.00</td>\n",
       "      <td>0.000000</td>\n",
       "      <td>NaN</td>\n",
       "    </tr>\n",
       "    <tr>\n",
       "      <th>6944799</th>\n",
       "      <td>1.742170e+09</td>\n",
       "      <td>82569.00</td>\n",
       "      <td>82569.00</td>\n",
       "      <td>82566.00</td>\n",
       "      <td>82566.00</td>\n",
       "      <td>0.003019</td>\n",
       "      <td>NaN</td>\n",
       "    </tr>\n",
       "  </tbody>\n",
       "</table>\n",
       "<p>6944800 rows × 7 columns</p>\n",
       "</div>"
      ],
      "text/plain": [
       "            Timestamp      Open      High       Low     Close    Volume  \\\n",
       "0        1.325412e+09      4.58      4.58      4.58      4.58  0.000000   \n",
       "1        1.325412e+09      4.58      4.58      4.58      4.58  0.000000   \n",
       "2        1.325412e+09      4.58      4.58      4.58      4.58  0.000000   \n",
       "3        1.325412e+09      4.58      4.58      4.58      4.58  0.000000   \n",
       "4        1.325412e+09      4.58      4.58      4.58      4.58  0.000000   \n",
       "...               ...       ...       ...       ...       ...       ...   \n",
       "6944795  1.742169e+09  82554.00  82554.00  82554.00  82554.00  0.072000   \n",
       "6944796  1.742169e+09  82584.00  82615.00  82584.00  82615.00  0.194670   \n",
       "6944797  1.742169e+09  82555.00  82555.00  82555.00  82555.00  0.002680   \n",
       "6944798  1.742170e+09  82555.00  82555.00  82555.00  82555.00  0.000000   \n",
       "6944799  1.742170e+09  82569.00  82569.00  82566.00  82566.00  0.003019   \n",
       "\n",
       "                          datetime  \n",
       "0        2012-01-01 10:01:00+00:00  \n",
       "1        2012-01-01 10:02:00+00:00  \n",
       "2        2012-01-01 10:03:00+00:00  \n",
       "3        2012-01-01 10:04:00+00:00  \n",
       "4        2012-01-01 10:05:00+00:00  \n",
       "...                            ...  \n",
       "6944795                        NaN  \n",
       "6944796                        NaN  \n",
       "6944797                        NaN  \n",
       "6944798                        NaN  \n",
       "6944799                        NaN  \n",
       "\n",
       "[6944800 rows x 7 columns]"
      ]
     },
     "execution_count": 4,
     "metadata": {},
     "output_type": "execute_result"
    }
   ],
   "source": [
    " df = pd.read_csv('data/btcusd_1-min_data.csv')\n",
    "df"
   ]
  },
  {
   "cell_type": "markdown",
   "metadata": {
    "deletable": true,
    "editable": true,
    "frozen": false
   },
   "source": [
    "## Handling Null Values"
   ]
  },
  {
   "cell_type": "code",
   "execution_count": 5,
   "metadata": {
    "colab": {
     "base_uri": "https://localhost:8080/",
     "height": 424
    },
    "deletable": true,
    "editable": true,
    "execution": {
     "iopub.execute_input": "2025-03-31T09:39:40.112020Z",
     "iopub.status.busy": "2025-03-31T09:39:40.111281Z",
     "iopub.status.idle": "2025-03-31T09:39:41.293034Z",
     "shell.execute_reply": "2025-03-31T09:39:41.292671Z",
     "shell.execute_reply.started": "2025-03-31T09:39:40.111962Z"
    },
    "frozen": false,
    "id": "_E_ZJmnlhfQR",
    "outputId": "9c70512b-ddac-4ddd-a6e3-72671302505d"
   },
   "outputs": [
    {
     "name": "stderr",
     "output_type": "stream",
     "text": [
      "/tmp/ipykernel_16671/964551746.py:3: FutureWarning: DataFrame.interpolate with object dtype is deprecated and will raise in a future version. Call obj.infer_objects(copy=False) before interpolating instead.\n",
      "  df1=df.interpolate()\n"
     ]
    },
    {
     "data": {
      "text/html": [
       "<div>\n",
       "<style scoped>\n",
       "    .dataframe tbody tr th:only-of-type {\n",
       "        vertical-align: middle;\n",
       "    }\n",
       "\n",
       "    .dataframe tbody tr th {\n",
       "        vertical-align: top;\n",
       "    }\n",
       "\n",
       "    .dataframe thead th {\n",
       "        text-align: right;\n",
       "    }\n",
       "</style>\n",
       "<table border=\"1\" class=\"dataframe\">\n",
       "  <thead>\n",
       "    <tr style=\"text-align: right;\">\n",
       "      <th></th>\n",
       "      <th>Open</th>\n",
       "      <th>High</th>\n",
       "      <th>Low</th>\n",
       "      <th>Close</th>\n",
       "      <th>Volume</th>\n",
       "      <th>datetime</th>\n",
       "    </tr>\n",
       "    <tr>\n",
       "      <th>Timestamp</th>\n",
       "      <th></th>\n",
       "      <th></th>\n",
       "      <th></th>\n",
       "      <th></th>\n",
       "      <th></th>\n",
       "      <th></th>\n",
       "    </tr>\n",
       "  </thead>\n",
       "  <tbody>\n",
       "    <tr>\n",
       "      <th>2012-01-01 10:01:00</th>\n",
       "      <td>4.58</td>\n",
       "      <td>4.58</td>\n",
       "      <td>4.58</td>\n",
       "      <td>4.58</td>\n",
       "      <td>0.000000</td>\n",
       "      <td>2012-01-01 10:01:00+00:00</td>\n",
       "    </tr>\n",
       "    <tr>\n",
       "      <th>2012-01-01 10:16:00</th>\n",
       "      <td>4.58</td>\n",
       "      <td>4.58</td>\n",
       "      <td>4.58</td>\n",
       "      <td>4.58</td>\n",
       "      <td>0.000000</td>\n",
       "      <td>2012-01-01 10:16:00+00:00</td>\n",
       "    </tr>\n",
       "    <tr>\n",
       "      <th>2012-01-01 10:31:00</th>\n",
       "      <td>4.58</td>\n",
       "      <td>4.58</td>\n",
       "      <td>4.58</td>\n",
       "      <td>4.58</td>\n",
       "      <td>0.000000</td>\n",
       "      <td>2012-01-01 10:31:00+00:00</td>\n",
       "    </tr>\n",
       "    <tr>\n",
       "      <th>2012-01-01 10:46:00</th>\n",
       "      <td>4.58</td>\n",
       "      <td>4.58</td>\n",
       "      <td>4.58</td>\n",
       "      <td>4.58</td>\n",
       "      <td>0.000000</td>\n",
       "      <td>2012-01-01 10:46:00+00:00</td>\n",
       "    </tr>\n",
       "    <tr>\n",
       "      <th>2012-01-01 11:01:00</th>\n",
       "      <td>4.58</td>\n",
       "      <td>4.58</td>\n",
       "      <td>4.58</td>\n",
       "      <td>4.58</td>\n",
       "      <td>0.000000</td>\n",
       "      <td>2012-01-01 11:01:00+00:00</td>\n",
       "    </tr>\n",
       "    <tr>\n",
       "      <th>...</th>\n",
       "      <td>...</td>\n",
       "      <td>...</td>\n",
       "      <td>...</td>\n",
       "      <td>...</td>\n",
       "      <td>...</td>\n",
       "      <td>...</td>\n",
       "    </tr>\n",
       "    <tr>\n",
       "      <th>2025-03-16 22:51:00</th>\n",
       "      <td>82279.00</td>\n",
       "      <td>82289.00</td>\n",
       "      <td>82279.00</td>\n",
       "      <td>82279.00</td>\n",
       "      <td>1.062527</td>\n",
       "      <td>NaN</td>\n",
       "    </tr>\n",
       "    <tr>\n",
       "      <th>2025-03-16 23:06:00</th>\n",
       "      <td>82052.00</td>\n",
       "      <td>82052.00</td>\n",
       "      <td>81983.00</td>\n",
       "      <td>82001.00</td>\n",
       "      <td>10.763381</td>\n",
       "      <td>NaN</td>\n",
       "    </tr>\n",
       "    <tr>\n",
       "      <th>2025-03-16 23:21:00</th>\n",
       "      <td>82356.00</td>\n",
       "      <td>82356.00</td>\n",
       "      <td>82356.00</td>\n",
       "      <td>82356.00</td>\n",
       "      <td>0.085000</td>\n",
       "      <td>NaN</td>\n",
       "    </tr>\n",
       "    <tr>\n",
       "      <th>2025-03-16 23:36:00</th>\n",
       "      <td>82497.00</td>\n",
       "      <td>82497.00</td>\n",
       "      <td>82492.00</td>\n",
       "      <td>82492.00</td>\n",
       "      <td>0.193806</td>\n",
       "      <td>NaN</td>\n",
       "    </tr>\n",
       "    <tr>\n",
       "      <th>2025-03-16 23:51:00</th>\n",
       "      <td>82501.00</td>\n",
       "      <td>82501.00</td>\n",
       "      <td>82501.00</td>\n",
       "      <td>82501.00</td>\n",
       "      <td>0.000000</td>\n",
       "      <td>NaN</td>\n",
       "    </tr>\n",
       "  </tbody>\n",
       "</table>\n",
       "<p>462987 rows × 6 columns</p>\n",
       "</div>"
      ],
      "text/plain": [
       "                         Open      High       Low     Close     Volume  \\\n",
       "Timestamp                                                                \n",
       "2012-01-01 10:01:00      4.58      4.58      4.58      4.58   0.000000   \n",
       "2012-01-01 10:16:00      4.58      4.58      4.58      4.58   0.000000   \n",
       "2012-01-01 10:31:00      4.58      4.58      4.58      4.58   0.000000   \n",
       "2012-01-01 10:46:00      4.58      4.58      4.58      4.58   0.000000   \n",
       "2012-01-01 11:01:00      4.58      4.58      4.58      4.58   0.000000   \n",
       "...                       ...       ...       ...       ...        ...   \n",
       "2025-03-16 22:51:00  82279.00  82289.00  82279.00  82279.00   1.062527   \n",
       "2025-03-16 23:06:00  82052.00  82052.00  81983.00  82001.00  10.763381   \n",
       "2025-03-16 23:21:00  82356.00  82356.00  82356.00  82356.00   0.085000   \n",
       "2025-03-16 23:36:00  82497.00  82497.00  82492.00  82492.00   0.193806   \n",
       "2025-03-16 23:51:00  82501.00  82501.00  82501.00  82501.00   0.000000   \n",
       "\n",
       "                                      datetime  \n",
       "Timestamp                                       \n",
       "2012-01-01 10:01:00  2012-01-01 10:01:00+00:00  \n",
       "2012-01-01 10:16:00  2012-01-01 10:16:00+00:00  \n",
       "2012-01-01 10:31:00  2012-01-01 10:31:00+00:00  \n",
       "2012-01-01 10:46:00  2012-01-01 10:46:00+00:00  \n",
       "2012-01-01 11:01:00  2012-01-01 11:01:00+00:00  \n",
       "...                                        ...  \n",
       "2025-03-16 22:51:00                        NaN  \n",
       "2025-03-16 23:06:00                        NaN  \n",
       "2025-03-16 23:21:00                        NaN  \n",
       "2025-03-16 23:36:00                        NaN  \n",
       "2025-03-16 23:51:00                        NaN  \n",
       "\n",
       "[462987 rows x 6 columns]"
      ]
     },
     "execution_count": 5,
     "metadata": {},
     "output_type": "execute_result"
    }
   ],
   "source": [
    "df['Timestamp'] = pd.to_datetime(df['Timestamp'], unit='s')\n",
    "df.set_index('Timestamp', inplace=True)\n",
    "df1=df.interpolate()\n",
    "df1=df1.iloc[::15]\n",
    "df = df1\n",
    "df"
   ]
  },
  {
   "cell_type": "markdown",
   "metadata": {
    "deletable": true,
    "editable": true,
    "frozen": false
   },
   "source": [
    "## Ploting Close Price"
   ]
  },
  {
   "cell_type": "code",
   "execution_count": 6,
   "metadata": {
    "deletable": true,
    "editable": true,
    "execution": {
     "iopub.execute_input": "2025-03-31T09:39:45.730632Z",
     "iopub.status.busy": "2025-03-31T09:39:45.730183Z",
     "iopub.status.idle": "2025-03-31T09:39:45.857553Z",
     "shell.execute_reply": "2025-03-31T09:39:45.857192Z",
     "shell.execute_reply.started": "2025-03-31T09:39:45.730596Z"
    },
    "frozen": false,
    "id": "I3z9soZ6YjU_"
   },
   "outputs": [
    {
     "data": {
      "image/png": "[encoded data removed]",
      "text/plain": [
       "<Figure size 1600x800 with 1 Axes>"
      ]
     },
     "metadata": {},
     "output_type": "display_data"
    }
   ],
   "source": [
    "plt.figure(figsize=(16,8))\n",
    "plt.title('Price History')\n",
    "plt.plot(df['Close'])\n",
    "plt.xlabel('DATE')\n",
    "plt.ylabel('PRICE USD')\n",
    "plt.show()"
   ]
  },
  {
   "cell_type": "markdown",
   "metadata": {
    "deletable": true,
    "editable": true,
    "frozen": false
   },
   "source": [
    "## Scaling Spliting "
   ]
  },
  {
   "cell_type": "code",
   "execution_count": 8,
   "metadata": {
    "deletable": true,
    "editable": true,
    "execution": {
     "iopub.execute_input": "2025-03-31T09:40:31.893124Z",
     "iopub.status.busy": "2025-03-31T09:40:31.893001Z",
     "iopub.status.idle": "2025-03-31T09:41:32.892684Z",
     "shell.execute_reply": "2025-03-31T09:41:32.892251Z",
     "shell.execute_reply.started": "2025-03-31T09:40:31.893116Z"
    },
    "frozen": false
   },
   "outputs": [],
   "source": [
    "# Define features and target\n",
    "target_col = 'Close'\n",
    "features = ['Open', 'High', 'Low' ]\n",
    "\n",
    "\"\"\"\n",
    "data is df\n",
    "target_col is target_column\n",
    "lookback_steps is how many steps enters to the model ad input\n",
    "shifting_lookback_steps is how many steps would shift for next input\n",
    "shifting_target_steps is how many steps after selecting lookback_steps is tartget \n",
    "            , zero means next step after lookback_steps is target\n",
    "\"\"\"\n",
    "def create_sequences(data, target_col, lookback_steps, shifting_lookback_steps, shifting_target_steps=0):\n",
    "    X, y = [], []\n",
    "    for i in range(0, math.ceil((len(data) - lookback_steps)/shifting_lookback_steps)-shifting_target_steps):\n",
    "        X.append(data.iloc[i*shifting_lookback_steps:(shifting_lookback_steps*i) + lookback_steps][features].values)\n",
    "        y.append(data.iloc[(i*shifting_lookback_steps)+lookback_steps+shifting_target_steps][target_col])\n",
    "    return np.array(X), np.array(y)\n",
    "\n",
    "\n",
    "# Create sequences first\n",
    "X, y = create_sequences(df, target_col, lookback_steps=10, shifting_lookback_steps=1, shifting_target_steps=0)  # Adjust time steps as needed\n",
    "\n",
    "# Split the data into training and validation sets\n",
    "X_train, X_val, y_train, y_val = X[:-100], X[-100:], y[:-100], y[-100:]\n",
    "\n",
    "# Initialize scalers for X (features) and y (target)\n",
    "scaler_X = MinMaxScaler()\n",
    "scaler_y = MinMaxScaler()\n",
    "\n",
    "# Fit and transform the training data\n",
    "X_train_scaled = scaler_X.fit_transform(X_train.reshape(-1, X_train.shape[-1])).reshape(X_train.shape)\n",
    "y_train_scaled = scaler_y.fit_transform(y_train.reshape(-1, 1))\n",
    "\n",
    "# Transform the validation data\n",
    "X_val_scaled = scaler_X.transform(X_val.reshape(-1, X_val.shape[-1])).reshape(X_val.shape)\n",
    "y_val_scaled = scaler_y.transform(y_val.reshape(-1, 1))"
   ]
  },
  {
   "cell_type": "markdown",
   "metadata": {
    "deletable": true,
    "editable": true,
    "frozen": false
   },
   "source": [
    "# Block Diagram of Custom LSTM Layer\n",
    "\n",
    "## CustomLSTMCell \n",
    "\n",
    "1. **Input Concatenation**:\n",
    "    - Concatenate the input \\( x_t \\) and the hidden state \\( h_t \\).\n",
    "    - Concatenate the input \\( x_t \\) and the feature state \\( fe_t \\).\n",
    "    - Concatenate the input \\( x_t \\) and the cell state \\( c_t \\).\n",
    "\n",
    "2. **Forget Gate \\( f_t \\)**:\n",
    "    - Calculate \\( f_t \\) using the concatenated input and hidden state.\n",
    "    - \\( f_t = \\text{sigmoid}(W_f \\cdot [x_t, h_t] + b_f) \\)\n",
    "\n",
    "3. **Input Gate \\( i_t \\)**:\n",
    "    - Calculate \\( i_t \\) using the concatenated input and hidden state.\n",
    "    - \\( i_t = \\text{sigmoid}(W_i \\cdot [x_t, h_t] + b_i) \\)\n",
    "\n",
    "4. **Cell Candidate \\( \\hat{c}_t \\)**:\n",
    "    - Calculate \\( \\hat{c}_t \\) using the concatenated input and hidden state.\n",
    "    - \\( \\hat{c}_t = \\text{tanh}(W_c \\cdot [x_t, h_t] + b_c) \\)\n",
    "\n",
    "5. **Output Gate \\( o_t \\)**:\n",
    "    - Calculate \\( o_t \\) using the concatenated input and hidden state.\n",
    "    - \\( o_t = \\text{sigmoid}(W_o \\cdot [x_t, h_t] + b_o) \\)\n",
    "\n",
    "6. **Cell State Update**:\n",
    "    - Update the cell state \\( c_t \\) using the forget gate and input gate.\n",
    "    - \\( c_t = f_t \\cdot c_t + i_t \\cdot \\hat{c}_t \\)\n",
    "\n",
    "7. **Hidden State Update**:\n",
    "    - Update the hidden state \\( h_t \\) using the output gate.\n",
    "    - \\( h_t = o_t \\cdot \\text{tanh}(c_t) \\)\n",
    "\n",
    "8. **Feature State Updates**:\n",
    "    - Compute intermediate feature states \\( \\hat{fe}_t \\) and \\( fe_h \\).\n",
    "    - Calculate \\( B \\) using the concatenated input and cell state.\n",
    "    - Compute additional feature states \\( fe_1 \\) and \\( fe_2 \\).\n",
    "    - Calculate the final feature state \\( fe_t \\) using \\( fe_1 \\), \\( fe_2 \\), and a recurrent feature \\( fe_f \\).\n",
    "\n",
    "## CustomLSTM\n",
    "\n",
    "1. **Initialize States**:\n",
    "    - Initialize \\( h_t \\), \\( c_t \\), and \\( fe_t \\) to zeros.\n",
    "\n",
    "2. **Sequence Processing**:\n",
    "    - Transpose the input sequence for time-step-wise processing.\n",
    "    - Iterate over each time step:\n",
    "        - Update \\( h_t \\), \\( c_t \\), and \\( fe_t \\) using the `CustomLSTMCell`.\n",
    "\n",
    "3. **Output Handling**:\n",
    "    - If `return_sequences` is True, return the sequence of hidden states.\n",
    "    - If `return_state` is True, return the final states \\( h_t \\) and \\( c_t \\).\n",
    "\n",
    "## Block Diagram Illustration\n",
    "\n",
    "```plaintext\n",
    "                            CustomLSTM Layer\n",
    "  ┌─────────────────────────────────────────────────────┐\n",
    "  │                                                     │\n",
    "  │  Initialize h_t, c_t, fe_t to zeros                 │\n",
    "  │                                                     │\n",
    "  │  Inputs (batch_size, seq_length, input_dim)         │\n",
    "  │     │                                               │\n",
    "  │     │                                               │\n",
    "  │     ▼                                               │\n",
    "  │  Transpose Inputs (seq_length, batch_size, input_dim)│\n",
    "  │     │                                               │\n",
    "  │     │                                               │\n",
    "  │     ▼                                               │\n",
    "  │  For each time step:                                │\n",
    "  │     │                                               │\n",
    "  │     ├──────────────┬───────────────┬───────────────┤\n",
    "  │     │              │               │               │\n",
    "  │     ▼              ▼               ▼               ▼\n",
    "  │  ┌──────────────────────────────────────────────┐  │\n",
    "  │  │                CustomLSTMCell                │  │\n",
    "  │  │                                              │  │\n",
    "  │  │  Concatenate x_t and h_t, fe_t, c_t          │  │\n",
    "  │  │                                              │  │\n",
    "  │  │  Forget Gate: f_t                            │  │\n",
    "  │  │  Input Gate: i_t                             │  │\n",
    "  │  │  Cell Candidate: c_hat_t                     │  │\n",
    "  │  │  Output Gate: o_t                            │  │\n",
    "  │  │                                              │  │\n",
    "  │  │  Update c_t and h_t                          │  │\n",
    "  │  │                                              │  │\n",
    "  │  │  Feature State Updates: fe_t                 │  │\n",
    "  │  └──────────────────────────────────────────────┘  │\n",
    "  │     │                                               │\n",
    "  │     │                                               │\n",
    "  │     ▼                                               │\n",
    "  │  Collect Outputs                                    │\n",
    "  │                                                     │\n",
    "  │  Final Outputs:                                     │\n",
    "  │  - Sequence of h_t if return_sequences=True         │\n",
    "  │  - Final states if return_state=True                │\n",
    "  │                                                     │\n",
    "  └─────────────────────────────────────────────────────┘\n"
   ]
  },
  {
   "cell_type": "markdown",
   "metadata": {
    "deletable": true,
    "editable": true,
    "frozen": false
   },
   "source": [
    "## FLSTM CELL"
   ]
  },
  {
   "cell_type": "code",
   "execution_count": 9,
   "metadata": {
    "deletable": true,
    "editable": true,
    "execution": {
     "iopub.execute_input": "2025-03-31T09:41:36.023106Z",
     "iopub.status.busy": "2025-03-31T09:41:36.022787Z",
     "iopub.status.idle": "2025-03-31T09:41:36.031833Z",
     "shell.execute_reply": "2025-03-31T09:41:36.031628Z",
     "shell.execute_reply.started": "2025-03-31T09:41:36.023096Z"
    },
    "frozen": false
   },
   "outputs": [],
   "source": [
    "\n",
    "class CustomLSTMCell(tf.keras.layers.Layer):\n",
    "    def __init__(self, units, activation='tanh', recurrent_activation='sigmoid', use_bias=True, recurrent_dropout=0.0, **kwargs):\n",
    "        super(CustomLSTMCell, self).__init__(**kwargs)\n",
    "        self.units = units\n",
    "        self.activation = tf.keras.activations.get(activation)\n",
    "        self.recurrent_activation = tf.keras.activations.get(recurrent_activation)\n",
    "        self.use_bias = use_bias\n",
    "        self.recurrent_dropout = recurrent_dropout\n",
    "\n",
    "    def build(self, input_shape):\n",
    "        self.input_dim = input_shape[-1] # features number\n",
    "        \n",
    "        self.W_f = self.add_weight(shape=(self.input_dim + self.units, self.units), initializer='random_normal', name='W_f')\n",
    "        self.b_f = self.add_weight(shape=(self.units,), initializer='zeros', name='b_f') if self.use_bias else None\n",
    "        \n",
    "        self.W_i = self.add_weight(shape=(self.input_dim + self.units, self.units), initializer='random_normal', name='W_i')\n",
    "        self.b_i = self.add_weight(shape=(self.units,), initializer='zeros', name='b_i') if self.use_bias else None\n",
    "        \n",
    "        self.W_c = self.add_weight(shape=(self.input_dim + self.units, self.units), initializer='random_normal', name='W_c')\n",
    "        self.b_c = self.add_weight(shape=(self.units,), initializer='zeros', name='b_c') if self.use_bias else None\n",
    "        \n",
    "        self.W_o = self.add_weight(shape=(self.input_dim + self.units, self.units), initializer='random_normal', name='W_o')\n",
    "        self.b_o = self.add_weight(shape=(self.units,), initializer='zeros', name='b_o') if self.use_bias else None\n",
    "\n",
    "        self.W_s = self.add_weight(shape=(self.input_dim + self.units, self.units), initializer='random_normal', name='W_s')\n",
    "        self.b_s = self.add_weight(shape=(self.units,), initializer='zeros', name='b_s') if self.use_bias else None\n",
    "\n",
    "        self.W_ff = self.add_weight(shape=(self.units, self.units), initializer='random_normal', name='W_ff')\n",
    "        self.b_ff = self.add_weight(shape=(self.units,), initializer='zeros', name='b_ff') if self.use_bias else None\n",
    "        \n",
    "        self.W_fe = self.add_weight(shape=(self.units, self.units), initializer='random_normal', name='W_fe')\n",
    "        self.b_fe = self.add_weight(shape=(self.units,), initializer='zeros', name='b_fe') if self.use_bias else None\n",
    "        \n",
    "        self.W_z = self.add_weight(shape=(self.units, self.units), initializer='random_normal', name='W_z')\n",
    "        self.b_z = self.add_weight(shape=(self.units,), initializer='zeros', name='b_z') if self.use_bias else None\n",
    "        \n",
    "        self.W_B = self.add_weight(shape=(self.input_dim + self.units, self.units), initializer='random_normal', name='W_B')\n",
    "        self.b_B = self.add_weight(shape=(self.units,), initializer='zeros', name='b_B') if self.use_bias else None\n",
    "        \n",
    "        \n",
    "\n",
    "    def call(self, inputs, states, training=None):\n",
    "        h_t, c_t, fe_t = states\n",
    "        if 0 < self.recurrent_dropout < 1 and training:\n",
    "            h_t = tf.nn.dropout(h_t, rate=self.recurrent_dropout)\n",
    "        \n",
    "        # print(inputs)\n",
    "        # print(f'h_t.shape={h_t.shape}')\n",
    "        # print(f'fe_t.shape={fe_t.shape}')\n",
    "        # print(f'c_t.shape={c_t.shape}')\n",
    "        # print(f'self.w_s.shape={self.W_s.shape}')\n",
    "        concat_h_t = tf.concat([inputs, h_t], axis=-1)\n",
    "        concat_fe_t = tf.concat([inputs, fe_t], axis=-1)\n",
    "        concat_c_t = tf.concat([inputs, c_t], axis=-1)\n",
    "        fe_hat = tf.matmul(concat_fe_t,self.W_s) + (self.b_s if self.use_bias else 0)\n",
    "        fe_h= fe_hat + tf.matmul(concat_h_t,(1-self.W_s))+ (self.b_s if self.use_bias else 0)\n",
    "        \n",
    "        # print(f'fe_h_hat.shape={fe_h.shape}')\n",
    "        # print('cell_here4')\n",
    "\n",
    "        B_hat= tf.matmul(concat_c_t, self.W_B) + (self.b_B if self.use_bias else 0)\n",
    "        f_t = self.recurrent_activation(tf.matmul(concat_h_t, self.W_f) + (self.b_f if self.use_bias else 0))\n",
    "        i_t = self.recurrent_activation(tf.matmul(concat_h_t, self.W_i) + (self.b_i if self.use_bias else 0))\n",
    "        c_hat_t = self.activation(tf.matmul(concat_h_t, self.W_c) + (self.b_c if self.use_bias else 0))\n",
    "        o_t = self.recurrent_activation(tf.matmul(concat_h_t, self.W_o) + (self.b_o if self.use_bias else 0))\n",
    "        # print('cell_here6')\n",
    "        # print(B_hat)\n",
    "        fe_1 = self.recurrent_activation(tf.matmul(B_hat,self.W_z) + (self.b_z if self.use_bias else 0))\n",
    "        fe_2 = self.activation(tf.matmul(B_hat,self.W_fe) + (self.b_fe if self.use_bias else 0))\n",
    "        # print('cell_here8')\n",
    "        # print(f'fe_1{fe_1}')\n",
    "        # print(f'fe_2{fe_2}')\n",
    "\n",
    "        fe_f = tf.matmul(f_t, self.W_ff) + (self.b_ff if self.use_bias else 0)\n",
    "\n",
    "        # print('code_here9')\n",
    "        c_t_next = f_t * c_t + i_t * c_hat_t\n",
    "        h_t_next = o_t * self.activation(c_t_next)\n",
    "        # print('code_here10')\n",
    "        fe_1_2=fe_1 * fe_2\n",
    "        fe_ff = fe_t * fe_f\n",
    "        # print ('code_here 11')\n",
    "        # print (fe_1_2 ,fe_ff)\n",
    "        fe_t_next=fe_1_2+fe_ff\n",
    "        \n",
    "        return h_t_next, [h_t_next, c_t_next, fe_t_next]\n",
    "    \n",
    "\n",
    "    def get_config(self):\n",
    "        config = super(CustomLSTMCell, self).get_config()\n",
    "        config.update({\n",
    "            'units': self.units,\n",
    "            'activation': tf.keras.activations.serialize(self.activation),\n",
    "            'recurrent_activation': tf.keras.activations.serialize(self.recurrent_activation),\n",
    "            'use_bias': self.use_bias,\n",
    "            'recurrent_dropout': self.recurrent_dropout,\n",
    "        })\n",
    "        return config\n",
    "\n",
    "\n",
    "class CustomLSTM(tf.keras.layers.Layer):\n",
    "    def __init__(self, units, activation='tanh', recurrent_activation='sigmoid', use_bias=True, return_sequences=False, return_state=False, recurrent_dropout=0.0, unroll=False, **kwargs):\n",
    "        super(CustomLSTM, self).__init__(**kwargs)\n",
    "        self.units = units\n",
    "        self.return_sequences = return_sequences\n",
    "        self.return_state = return_state\n",
    "        self.unroll = unroll\n",
    "        self.cell = CustomLSTMCell(units, activation=activation, recurrent_activation=recurrent_activation, use_bias=use_bias, recurrent_dropout=recurrent_dropout)\n",
    "        \n",
    "    def call(self, inputs, training=None):\n",
    "        batch_size = tf.shape(inputs)[0]\n",
    "        seq_length = tf.shape(inputs)[1]\n",
    "        \n",
    "        h_t = tf.zeros((batch_size, self.units))\n",
    "        c_t = tf.zeros((batch_size, self.units))\n",
    "        fe_t = tf.zeros((batch_size, self.units))\n",
    "        \n",
    "        states = [h_t, c_t, fe_t]\n",
    "        \n",
    "        inputs_transposed = tf.transpose(inputs, [1, 0, 2])\n",
    "        \n",
    "        def step(prev_states, x_t):\n",
    "            \n",
    "            h_t, c_t, fe_t = prev_states\n",
    "            \n",
    "            h_t, [h_t, c_t, fe_t] = self.cell(x_t, [h_t, c_t, fe_t], training=training)\n",
    "            \n",
    "            return [h_t, c_t, fe_t]\n",
    "\n",
    "        if self.unroll:\n",
    "            # Unroll the loop manually if unroll=True\n",
    "            outputs = []\n",
    "            for i in range(seq_length):\n",
    "                states = step(states, inputs_transposed[i])\n",
    "                outputs.append(states[0])\n",
    "            outputs = tf.stack(outputs, axis=0)\n",
    "            \n",
    "        else:\n",
    "            states = tf.scan(step, inputs_transposed, initializer=states, parallel_iterations=1)\n",
    "            outputs = states[0]\n",
    "            \n",
    "        \n",
    "        outputs = tf.transpose(outputs, [1, 0, 2])\n",
    "        \n",
    "        final_states = [states[0][-1], states[1][-1]]\n",
    "        \n",
    "        if self.return_sequences:\n",
    "            if self.return_state:\n",
    "                return outputs, final_states\n",
    "            return outputs\n",
    "        \n",
    "        if self.return_state:\n",
    "            return outputs[:, -1, :], final_states\n",
    "        return outputs[:, -1, :]\n",
    "    \n",
    "    def get_config(self):\n",
    "        config = super(CustomLSTM, self).get_config()\n",
    "        config.update({\n",
    "            'units': self.units,\n",
    "            'activation': tf.keras.activations.serialize(self.cell.activation),\n",
    "            'recurrent_activation': tf.keras.activations.serialize(self.cell.recurrent_activation),\n",
    "            'use_bias': self.cell.use_bias,\n",
    "            'return_sequences': self.return_sequences,\n",
    "            'return_state': self.return_state,\n",
    "            'recurrent_dropout': self.cell.recurrent_dropout,\n",
    "            'unroll': self.unroll,\n",
    "        })\n",
    "        return config\n"
   ]
  },
  {
   "cell_type": "markdown",
   "metadata": {
    "deletable": true,
    "editable": true,
    "frozen": false
   },
   "source": [
    "# Training"
   ]
  },
  {
   "cell_type": "markdown",
   "metadata": {
    "deletable": true,
    "editable": true,
    "frozen": false
   },
   "source": [
    "## FLSTM Training"
   ]
  },
  {
   "cell_type": "code",
   "execution_count": 15,
   "metadata": {
    "deletable": true,
    "editable": true,
    "execution": {
     "iopub.execute_input": "2025-03-31T13:49:11.221992Z",
     "iopub.status.busy": "2025-03-31T13:49:11.221817Z",
     "iopub.status.idle": "2025-03-31T14:05:15.106618Z",
     "shell.execute_reply": "2025-03-31T14:05:15.106324Z",
     "shell.execute_reply.started": "2025-03-31T13:49:11.221980Z"
    },
    "frozen": false,
    "scrolled": true
   },
   "outputs": [
    {
     "data": {
      "text/html": [
       "<pre style=\"white-space:pre;overflow-x:auto;line-height:normal;font-family:Menlo,'DejaVu Sans Mono',consolas,'Courier New',monospace\"><span style=\"font-weight: bold\">Model: \"functional_3\"</span>\n",
       "</pre>\n"
      ],
      "text/plain": [
       "\u001b[1mModel: \"functional_3\"\u001b[0m\n"
      ]
     },
     "metadata": {},
     "output_type": "display_data"
    },
    {
     "data": {
      "text/html": [
       "<pre style=\"white-space:pre;overflow-x:auto;line-height:normal;font-family:Menlo,'DejaVu Sans Mono',consolas,'Courier New',monospace\">┏━━━━━━━━━━━━━━━━━━━━━━━━━━━━━━━━━┳━━━━━━━━━━━━━━━━━━━━━━━━┳━━━━━━━━━━━━━━━┓\n",
       "┃<span style=\"font-weight: bold\"> Layer (type)                    </span>┃<span style=\"font-weight: bold\"> Output Shape           </span>┃<span style=\"font-weight: bold\">       Param # </span>┃\n",
       "┡━━━━━━━━━━━━━━━━━━━━━━━━━━━━━━━━━╇━━━━━━━━━━━━━━━━━━━━━━━━╇━━━━━━━━━━━━━━━┩\n",
       "│ input_layer_3 (<span style=\"color: #0087ff; text-decoration-color: #0087ff\">InputLayer</span>)      │ (<span style=\"color: #00d7ff; text-decoration-color: #00d7ff\">None</span>, <span style=\"color: #00af00; text-decoration-color: #00af00\">10</span>, <span style=\"color: #00af00; text-decoration-color: #00af00\">3</span>)          │             <span style=\"color: #00af00; text-decoration-color: #00af00\">0</span> │\n",
       "├─────────────────────────────────┼────────────────────────┼───────────────┤\n",
       "│ custom_lstm_9 (<span style=\"color: #0087ff; text-decoration-color: #0087ff\">CustomLSTM</span>)      │ (<span style=\"color: #00d7ff; text-decoration-color: #00d7ff\">None</span>, <span style=\"color: #00af00; text-decoration-color: #00af00\">10</span>, <span style=\"color: #00af00; text-decoration-color: #00af00\">160</span>)        │       <span style=\"color: #00af00; text-decoration-color: #00af00\">234,720</span> │\n",
       "├─────────────────────────────────┼────────────────────────┼───────────────┤\n",
       "│ dropout_9 (<span style=\"color: #0087ff; text-decoration-color: #0087ff\">Dropout</span>)             │ (<span style=\"color: #00d7ff; text-decoration-color: #00d7ff\">None</span>, <span style=\"color: #00af00; text-decoration-color: #00af00\">10</span>, <span style=\"color: #00af00; text-decoration-color: #00af00\">160</span>)        │             <span style=\"color: #00af00; text-decoration-color: #00af00\">0</span> │\n",
       "├─────────────────────────────────┼────────────────────────┼───────────────┤\n",
       "│ dense_6 (<span style=\"color: #0087ff; text-decoration-color: #0087ff\">Dense</span>)                 │ (<span style=\"color: #00d7ff; text-decoration-color: #00d7ff\">None</span>, <span style=\"color: #00af00; text-decoration-color: #00af00\">10</span>, <span style=\"color: #00af00; text-decoration-color: #00af00\">164</span>)        │        <span style=\"color: #00af00; text-decoration-color: #00af00\">26,404</span> │\n",
       "├─────────────────────────────────┼────────────────────────┼───────────────┤\n",
       "│ custom_lstm_10 (<span style=\"color: #0087ff; text-decoration-color: #0087ff\">CustomLSTM</span>)     │ (<span style=\"color: #00d7ff; text-decoration-color: #00d7ff\">None</span>, <span style=\"color: #00af00; text-decoration-color: #00af00\">10</span>, <span style=\"color: #00af00; text-decoration-color: #00af00\">240</span>)        │       <span style=\"color: #00af00; text-decoration-color: #00af00\">756,720</span> │\n",
       "├─────────────────────────────────┼────────────────────────┼───────────────┤\n",
       "│ dropout_10 (<span style=\"color: #0087ff; text-decoration-color: #0087ff\">Dropout</span>)            │ (<span style=\"color: #00d7ff; text-decoration-color: #00d7ff\">None</span>, <span style=\"color: #00af00; text-decoration-color: #00af00\">10</span>, <span style=\"color: #00af00; text-decoration-color: #00af00\">240</span>)        │             <span style=\"color: #00af00; text-decoration-color: #00af00\">0</span> │\n",
       "├─────────────────────────────────┼────────────────────────┼───────────────┤\n",
       "│ custom_lstm_11 (<span style=\"color: #0087ff; text-decoration-color: #0087ff\">CustomLSTM</span>)     │ (<span style=\"color: #00d7ff; text-decoration-color: #00d7ff\">None</span>, <span style=\"color: #00af00; text-decoration-color: #00af00\">240</span>)            │       <span style=\"color: #00af00; text-decoration-color: #00af00\">866,160</span> │\n",
       "├─────────────────────────────────┼────────────────────────┼───────────────┤\n",
       "│ dropout_11 (<span style=\"color: #0087ff; text-decoration-color: #0087ff\">Dropout</span>)            │ (<span style=\"color: #00d7ff; text-decoration-color: #00d7ff\">None</span>, <span style=\"color: #00af00; text-decoration-color: #00af00\">240</span>)            │             <span style=\"color: #00af00; text-decoration-color: #00af00\">0</span> │\n",
       "├─────────────────────────────────┼────────────────────────┼───────────────┤\n",
       "│ dense_7 (<span style=\"color: #0087ff; text-decoration-color: #0087ff\">Dense</span>)                 │ (<span style=\"color: #00d7ff; text-decoration-color: #00d7ff\">None</span>, <span style=\"color: #00af00; text-decoration-color: #00af00\">1</span>)              │           <span style=\"color: #00af00; text-decoration-color: #00af00\">241</span> │\n",
       "└─────────────────────────────────┴────────────────────────┴───────────────┘\n",
       "</pre>\n"
      ],
      "text/plain": [
       "┏━━━━━━━━━━━━━━━━━━━━━━━━━━━━━━━━━┳━━━━━━━━━━━━━━━━━━━━━━━━┳━━━━━━━━━━━━━━━┓\n",
       "┃\u001b[1m \u001b[0m\u001b[1mLayer (type)                   \u001b[0m\u001b[1m \u001b[0m┃\u001b[1m \u001b[0m\u001b[1mOutput Shape          \u001b[0m\u001b[1m \u001b[0m┃\u001b[1m \u001b[0m\u001b[1m      Param #\u001b[0m\u001b[1m \u001b[0m┃\n",
       "┡━━━━━━━━━━━━━━━━━━━━━━━━━━━━━━━━━╇━━━━━━━━━━━━━━━━━━━━━━━━╇━━━━━━━━━━━━━━━┩\n",
       "│ input_layer_3 (\u001b[38;5;33mInputLayer\u001b[0m)      │ (\u001b[38;5;45mNone\u001b[0m, \u001b[38;5;34m10\u001b[0m, \u001b[38;5;34m3\u001b[0m)          │             \u001b[38;5;34m0\u001b[0m │\n",
       "├─────────────────────────────────┼────────────────────────┼───────────────┤\n",
       "│ custom_lstm_9 (\u001b[38;5;33mCustomLSTM\u001b[0m)      │ (\u001b[38;5;45mNone\u001b[0m, \u001b[38;5;34m10\u001b[0m, \u001b[38;5;34m160\u001b[0m)        │       \u001b[38;5;34m234,720\u001b[0m │\n",
       "├─────────────────────────────────┼────────────────────────┼───────────────┤\n",
       "│ dropout_9 (\u001b[38;5;33mDropout\u001b[0m)             │ (\u001b[38;5;45mNone\u001b[0m, \u001b[38;5;34m10\u001b[0m, \u001b[38;5;34m160\u001b[0m)        │             \u001b[38;5;34m0\u001b[0m │\n",
       "├─────────────────────────────────┼────────────────────────┼───────────────┤\n",
       "│ dense_6 (\u001b[38;5;33mDense\u001b[0m)                 │ (\u001b[38;5;45mNone\u001b[0m, \u001b[38;5;34m10\u001b[0m, \u001b[38;5;34m164\u001b[0m)        │        \u001b[38;5;34m26,404\u001b[0m │\n",
       "├─────────────────────────────────┼────────────────────────┼───────────────┤\n",
       "│ custom_lstm_10 (\u001b[38;5;33mCustomLSTM\u001b[0m)     │ (\u001b[38;5;45mNone\u001b[0m, \u001b[38;5;34m10\u001b[0m, \u001b[38;5;34m240\u001b[0m)        │       \u001b[38;5;34m756,720\u001b[0m │\n",
       "├─────────────────────────────────┼────────────────────────┼───────────────┤\n",
       "│ dropout_10 (\u001b[38;5;33mDropout\u001b[0m)            │ (\u001b[38;5;45mNone\u001b[0m, \u001b[38;5;34m10\u001b[0m, \u001b[38;5;34m240\u001b[0m)        │             \u001b[38;5;34m0\u001b[0m │\n",
       "├─────────────────────────────────┼────────────────────────┼───────────────┤\n",
       "│ custom_lstm_11 (\u001b[38;5;33mCustomLSTM\u001b[0m)     │ (\u001b[38;5;45mNone\u001b[0m, \u001b[38;5;34m240\u001b[0m)            │       \u001b[38;5;34m866,160\u001b[0m │\n",
       "├─────────────────────────────────┼────────────────────────┼───────────────┤\n",
       "│ dropout_11 (\u001b[38;5;33mDropout\u001b[0m)            │ (\u001b[38;5;45mNone\u001b[0m, \u001b[38;5;34m240\u001b[0m)            │             \u001b[38;5;34m0\u001b[0m │\n",
       "├─────────────────────────────────┼────────────────────────┼───────────────┤\n",
       "│ dense_7 (\u001b[38;5;33mDense\u001b[0m)                 │ (\u001b[38;5;45mNone\u001b[0m, \u001b[38;5;34m1\u001b[0m)              │           \u001b[38;5;34m241\u001b[0m │\n",
       "└─────────────────────────────────┴────────────────────────┴───────────────┘\n"
      ]
     },
     "metadata": {},
     "output_type": "display_data"
    },
    {
     "data": {
      "text/html": [
       "<pre style=\"white-space:pre;overflow-x:auto;line-height:normal;font-family:Menlo,'DejaVu Sans Mono',consolas,'Courier New',monospace\"><span style=\"font-weight: bold\"> Total params: </span><span style=\"color: #00af00; text-decoration-color: #00af00\">1,884,245</span> (7.19 MB)\n",
       "</pre>\n"
      ],
      "text/plain": [
       "\u001b[1m Total params: \u001b[0m\u001b[38;5;34m1,884,245\u001b[0m (7.19 MB)\n"
      ]
     },
     "metadata": {},
     "output_type": "display_data"
    },
    {
     "data": {
      "text/html": [
       "<pre style=\"white-space:pre;overflow-x:auto;line-height:normal;font-family:Menlo,'DejaVu Sans Mono',consolas,'Courier New',monospace\"><span style=\"font-weight: bold\"> Trainable params: </span><span style=\"color: #00af00; text-decoration-color: #00af00\">1,884,245</span> (7.19 MB)\n",
       "</pre>\n"
      ],
      "text/plain": [
       "\u001b[1m Trainable params: \u001b[0m\u001b[38;5;34m1,884,245\u001b[0m (7.19 MB)\n"
      ]
     },
     "metadata": {},
     "output_type": "display_data"
    },
    {
     "data": {
      "text/html": [
       "<pre style=\"white-space:pre;overflow-x:auto;line-height:normal;font-family:Menlo,'DejaVu Sans Mono',consolas,'Courier New',monospace\"><span style=\"font-weight: bold\"> Non-trainable params: </span><span style=\"color: #00af00; text-decoration-color: #00af00\">0</span> (0.00 B)\n",
       "</pre>\n"
      ],
      "text/plain": [
       "\u001b[1m Non-trainable params: \u001b[0m\u001b[38;5;34m0\u001b[0m (0.00 B)\n"
      ]
     },
     "metadata": {},
     "output_type": "display_data"
    },
    {
     "data": {
      "text/html": [
       "<pre style=\"white-space:pre;overflow-x:auto;line-height:normal;font-family:Menlo,'DejaVu Sans Mono',consolas,'Courier New',monospace\"></pre>\n"
      ],
      "text/plain": []
     },
     "metadata": {},
     "output_type": "display_data"
    },
    {
     "name": "stdout",
     "output_type": "stream",
     "text": [
      "Epoch 1/20\n",
      "\u001b[1m3617/3617\u001b[0m \u001b[32m━━━━━━━━━━━━━━━━━━━━\u001b[0m\u001b[37m\u001b[0m \u001b[1m0s\u001b[0m 14ms/step - cosine_similarity: 0.8130 - loss: 7.2876e-04 - mae: 0.0100 - mape: 2820.1421 - mse: 7.2876e-04 - msle: 4.0245e-04"
     ]
    },
    {
     "name": "stderr",
     "output_type": "stream",
     "text": [
      "WARNING:absl:You are saving your model as an HDF5 file via `model.save()` or `keras.saving.save_model(model)`. This file format is considered legacy. We recommend using instead the native Keras format, e.g. `model.save('my_model.keras')` or `keras.saving.save_model(model, 'my_model.keras')`. \n"
     ]
    },
    {
     "name": "stdout",
     "output_type": "stream",
     "text": [
      "\u001b[1m3617/3617\u001b[0m \u001b[32m━━━━━━━━━━━━━━━━━━━━\u001b[0m\u001b[37m\u001b[0m \u001b[1m57s\u001b[0m 14ms/step - cosine_similarity: 0.8130 - loss: 7.2862e-04 - mae: 0.0100 - mape: 2819.9907 - mse: 7.2862e-04 - msle: 4.0237e-04 - val_cosine_similarity: 1.0000 - val_loss: 5.8475e-04 - val_mae: 0.0239 - val_mape: 3.1102 - val_mse: 5.8475e-04 - val_msle: 1.8427e-04\n",
      "Epoch 2/20\n",
      "\u001b[1m3614/3617\u001b[0m \u001b[32m━━━━━━━━━━━━━━━━━━━\u001b[0m\u001b[37m━\u001b[0m \u001b[1m0s\u001b[0m 13ms/step - cosine_similarity: 0.7566 - loss: 1.1536e-04 - mae: 0.0067 - mape: 2761.1274 - mse: 1.1536e-04 - msle: 5.1897e-05"
     ]
    },
    {
     "name": "stderr",
     "output_type": "stream",
     "text": [
      "WARNING:absl:You are saving your model as an HDF5 file via `model.save()` or `keras.saving.save_model(model)`. This file format is considered legacy. We recommend using instead the native Keras format, e.g. `model.save('my_model.keras')` or `keras.saving.save_model(model, 'my_model.keras')`. \n"
     ]
    },
    {
     "name": "stdout",
     "output_type": "stream",
     "text": [
      "\u001b[1m3617/3617\u001b[0m \u001b[32m━━━━━━━━━━━━━━━━━━━━\u001b[0m\u001b[37m\u001b[0m \u001b[1m48s\u001b[0m 13ms/step - cosine_similarity: 0.7566 - loss: 1.1535e-04 - mae: 0.0067 - mape: 2761.1016 - mse: 1.1535e-04 - msle: 5.1894e-05 - val_cosine_similarity: 1.0000 - val_loss: 6.7753e-05 - val_mae: 0.0076 - val_mape: 0.9810 - val_mse: 6.7753e-05 - val_msle: 2.1707e-05\n",
      "Epoch 3/20\n",
      "\u001b[1m3617/3617\u001b[0m \u001b[32m━━━━━━━━━━━━━━━━━━━━\u001b[0m\u001b[37m\u001b[0m \u001b[1m48s\u001b[0m 13ms/step - cosine_similarity: 0.7603 - loss: 9.5843e-05 - mae: 0.0063 - mape: 2707.6953 - mse: 9.5843e-05 - msle: 4.3919e-05 - val_cosine_similarity: 1.0000 - val_loss: 4.5940e-04 - val_mae: 0.0211 - val_mape: 2.7386 - val_mse: 4.5940e-04 - val_msle: 1.4835e-04\n",
      "Epoch 4/20\n",
      "\u001b[1m3615/3617\u001b[0m \u001b[32m━━━━━━━━━━━━━━━━━━━\u001b[0m\u001b[37m━\u001b[0m \u001b[1m0s\u001b[0m 13ms/step - cosine_similarity: 0.7587 - loss: 9.2235e-05 - mae: 0.0062 - mape: 2736.2686 - mse: 9.2235e-05 - msle: 4.2735e-05"
     ]
    },
    {
     "name": "stderr",
     "output_type": "stream",
     "text": [
      "WARNING:absl:You are saving your model as an HDF5 file via `model.save()` or `keras.saving.save_model(model)`. This file format is considered legacy. We recommend using instead the native Keras format, e.g. `model.save('my_model.keras')` or `keras.saving.save_model(model, 'my_model.keras')`. \n"
     ]
    },
    {
     "name": "stdout",
     "output_type": "stream",
     "text": [
      "\u001b[1m3617/3617\u001b[0m \u001b[32m━━━━━━━━━━━━━━━━━━━━\u001b[0m\u001b[37m\u001b[0m \u001b[1m48s\u001b[0m 13ms/step - cosine_similarity: 0.7587 - loss: 9.2234e-05 - mae: 0.0062 - mape: 2736.2866 - mse: 9.2234e-05 - msle: 4.2734e-05 - val_cosine_similarity: 1.0000 - val_loss: 2.0368e-05 - val_mae: 0.0034 - val_mape: 0.4429 - val_mse: 2.0368e-05 - val_msle: 6.5190e-06\n",
      "Epoch 5/20\n",
      "\u001b[1m3617/3617\u001b[0m \u001b[32m━━━━━━━━━━━━━━━━━━━━\u001b[0m\u001b[37m\u001b[0m \u001b[1m49s\u001b[0m 13ms/step - cosine_similarity: 0.7593 - loss: 8.9234e-05 - mae: 0.0061 - mape: 2750.4150 - mse: 8.9234e-05 - msle: 4.1518e-05 - val_cosine_similarity: 1.0000 - val_loss: 1.4175e-04 - val_mae: 0.0112 - val_mape: 1.4567 - val_mse: 1.4175e-04 - val_msle: 4.5517e-05\n",
      "Epoch 6/20\n",
      "\u001b[1m3617/3617\u001b[0m \u001b[32m━━━━━━━━━━━━━━━━━━━━\u001b[0m\u001b[37m\u001b[0m \u001b[1m48s\u001b[0m 13ms/step - cosine_similarity: 0.7610 - loss: 8.7406e-05 - mae: 0.0061 - mape: 2765.5591 - mse: 8.7406e-05 - msle: 4.0522e-05 - val_cosine_similarity: 1.0000 - val_loss: 2.4151e-04 - val_mae: 0.0150 - val_mape: 1.9518 - val_mse: 2.4151e-04 - val_msle: 7.7723e-05\n",
      "Epoch 7/20\n",
      "\u001b[1m3617/3617\u001b[0m \u001b[32m━━━━━━━━━━━━━━━━━━━━\u001b[0m\u001b[37m\u001b[0m \u001b[1m48s\u001b[0m 13ms/step - cosine_similarity: 0.7587 - loss: 8.3976e-05 - mae: 0.0060 - mape: 2713.0244 - mse: 8.3976e-05 - msle: 3.8997e-05 - val_cosine_similarity: 1.0000 - val_loss: 5.9627e-04 - val_mae: 0.0241 - val_mape: 3.1312 - val_mse: 5.9627e-04 - val_msle: 1.8789e-04\n",
      "Epoch 8/20\n",
      "\u001b[1m3617/3617\u001b[0m \u001b[32m━━━━━━━━━━━━━━━━━━━━\u001b[0m\u001b[37m\u001b[0m \u001b[1m47s\u001b[0m 13ms/step - cosine_similarity: 0.7590 - loss: 8.4647e-05 - mae: 0.0060 - mape: 2767.2180 - mse: 8.4647e-05 - msle: 3.9427e-05 - val_cosine_similarity: 1.0000 - val_loss: 0.0015 - val_mae: 0.0386 - val_mape: 5.0208 - val_mse: 0.0015 - val_msle: 4.7161e-04\n",
      "Epoch 9/20\n",
      "\u001b[1m3617/3617\u001b[0m \u001b[32m━━━━━━━━━━━━━━━━━━━━\u001b[0m\u001b[37m\u001b[0m \u001b[1m46s\u001b[0m 13ms/step - cosine_similarity: 0.7621 - loss: 8.0536e-05 - mae: 0.0058 - mape: 2611.4805 - mse: 8.0536e-05 - msle: 3.7499e-05 - val_cosine_similarity: 1.0000 - val_loss: 1.8483e-04 - val_mae: 0.0130 - val_mape: 1.6926 - val_mse: 1.8483e-04 - val_msle: 5.8639e-05\n",
      "Epoch 10/20\n",
      "\u001b[1m3617/3617\u001b[0m \u001b[32m━━━━━━━━━━━━━━━━━━━━\u001b[0m\u001b[37m\u001b[0m \u001b[1m46s\u001b[0m 13ms/step - cosine_similarity: 0.7630 - loss: 7.8039e-05 - mae: 0.0057 - mape: 2504.7627 - mse: 7.8039e-05 - msle: 3.6170e-05 - val_cosine_similarity: 1.0000 - val_loss: 3.1192e-05 - val_mae: 0.0048 - val_mape: 0.6168 - val_mse: 3.1192e-05 - val_msle: 9.9838e-06\n",
      "Epoch 11/20\n",
      "\u001b[1m3617/3617\u001b[0m \u001b[32m━━━━━━━━━━━━━━━━━━━━\u001b[0m\u001b[37m\u001b[0m \u001b[1m0s\u001b[0m 14ms/step - cosine_similarity: 0.7610 - loss: 7.9612e-05 - mae: 0.0058 - mape: 2661.9292 - mse: 7.9612e-05 - msle: 3.6966e-05"
     ]
    },
    {
     "name": "stderr",
     "output_type": "stream",
     "text": [
      "WARNING:absl:You are saving your model as an HDF5 file via `model.save()` or `keras.saving.save_model(model)`. This file format is considered legacy. We recommend using instead the native Keras format, e.g. `model.save('my_model.keras')` or `keras.saving.save_model(model, 'my_model.keras')`. \n"
     ]
    },
    {
     "name": "stdout",
     "output_type": "stream",
     "text": [
      "\u001b[1m3617/3617\u001b[0m \u001b[32m━━━━━━━━━━━━━━━━━━━━\u001b[0m\u001b[37m\u001b[0m \u001b[1m49s\u001b[0m 14ms/step - cosine_similarity: 0.7610 - loss: 7.9611e-05 - mae: 0.0058 - mape: 2661.9089 - mse: 7.9611e-05 - msle: 3.6965e-05 - val_cosine_similarity: 1.0000 - val_loss: 1.5648e-05 - val_mae: 0.0031 - val_mape: 0.4014 - val_mse: 1.5648e-05 - val_msle: 5.0102e-06\n",
      "Epoch 12/20\n",
      "\u001b[1m3617/3617\u001b[0m \u001b[32m━━━━━━━━━━━━━━━━━━━━\u001b[0m\u001b[37m\u001b[0m \u001b[1m45s\u001b[0m 12ms/step - cosine_similarity: 0.7626 - loss: 7.5308e-05 - mae: 0.0056 - mape: 2545.1262 - mse: 7.5308e-05 - msle: 3.5023e-05 - val_cosine_similarity: 1.0000 - val_loss: 2.6936e-05 - val_mae: 0.0042 - val_mape: 0.5444 - val_mse: 2.6936e-05 - val_msle: 8.6080e-06\n",
      "Epoch 13/20\n",
      "\u001b[1m3617/3617\u001b[0m \u001b[32m━━━━━━━━━━━━━━━━━━━━\u001b[0m\u001b[37m\u001b[0m \u001b[1m47s\u001b[0m 13ms/step - cosine_similarity: 0.7615 - loss: 7.6952e-05 - mae: 0.0057 - mape: 2555.9463 - mse: 7.6952e-05 - msle: 3.5968e-05 - val_cosine_similarity: 1.0000 - val_loss: 8.2898e-05 - val_mae: 0.0084 - val_mape: 1.0875 - val_mse: 8.2898e-05 - val_msle: 2.6388e-05\n",
      "Epoch 14/20\n",
      "\u001b[1m3617/3617\u001b[0m \u001b[32m━━━━━━━━━━━━━━━━━━━━\u001b[0m\u001b[37m\u001b[0m \u001b[1m48s\u001b[0m 13ms/step - cosine_similarity: 0.7617 - loss: 7.4186e-05 - mae: 0.0056 - mape: 2623.1145 - mse: 7.4186e-05 - msle: 3.4660e-05 - val_cosine_similarity: 1.0000 - val_loss: 1.3718e-04 - val_mae: 0.0111 - val_mape: 1.4422 - val_mse: 1.3718e-04 - val_msle: 4.3574e-05\n",
      "Epoch 15/20\n",
      "\u001b[1m3617/3617\u001b[0m \u001b[32m━━━━━━━━━━━━━━━━━━━━\u001b[0m\u001b[37m\u001b[0m \u001b[1m46s\u001b[0m 13ms/step - cosine_similarity: 0.7644 - loss: 7.3931e-05 - mae: 0.0056 - mape: 2560.3804 - mse: 7.3931e-05 - msle: 3.4577e-05 - val_cosine_similarity: 1.0000 - val_loss: 8.0919e-05 - val_mae: 0.0083 - val_mape: 1.0783 - val_mse: 8.0919e-05 - val_msle: 2.5933e-05\n",
      "Epoch 16/20\n",
      "\u001b[1m3617/3617\u001b[0m \u001b[32m━━━━━━━━━━━━━━━━━━━━\u001b[0m\u001b[37m\u001b[0m \u001b[1m48s\u001b[0m 13ms/step - cosine_similarity: 0.7642 - loss: 7.2971e-05 - mae: 0.0056 - mape: 2487.7241 - mse: 7.2971e-05 - msle: 3.4138e-05 - val_cosine_similarity: 1.0000 - val_loss: 1.7346e-05 - val_mae: 0.0031 - val_mape: 0.4039 - val_mse: 1.7346e-05 - val_msle: 5.5533e-06\n",
      "Epoch 17/20\n",
      "\u001b[1m3617/3617\u001b[0m \u001b[32m━━━━━━━━━━━━━━━━━━━━\u001b[0m\u001b[37m\u001b[0m \u001b[1m46s\u001b[0m 13ms/step - cosine_similarity: 0.7642 - loss: 7.2799e-05 - mae: 0.0055 - mape: 2494.6873 - mse: 7.2799e-05 - msle: 3.3935e-05 - val_cosine_similarity: 1.0000 - val_loss: 9.3866e-05 - val_mae: 0.0090 - val_mape: 1.1706 - val_mse: 9.3866e-05 - val_msle: 2.9863e-05\n",
      "Epoch 18/20\n",
      "\u001b[1m3617/3617\u001b[0m \u001b[32m━━━━━━━━━━━━━━━━━━━━\u001b[0m\u001b[37m\u001b[0m \u001b[1m48s\u001b[0m 13ms/step - cosine_similarity: 0.7653 - loss: 7.1159e-05 - mae: 0.0055 - mape: 2623.7456 - mse: 7.1159e-05 - msle: 3.3148e-05 - val_cosine_similarity: 1.0000 - val_loss: 2.2388e-05 - val_mae: 0.0037 - val_mape: 0.4828 - val_mse: 2.2388e-05 - val_msle: 7.1594e-06\n",
      "Epoch 19/20\n",
      "\u001b[1m3617/3617\u001b[0m \u001b[32m━━━━━━━━━━━━━━━━━━━━\u001b[0m\u001b[37m\u001b[0m \u001b[1m46s\u001b[0m 13ms/step - cosine_similarity: 0.7664 - loss: 7.0487e-05 - mae: 0.0055 - mape: 2434.3137 - mse: 7.0487e-05 - msle: 3.3011e-05 - val_cosine_similarity: 1.0000 - val_loss: 7.6081e-05 - val_mae: 0.0081 - val_mape: 1.0455 - val_mse: 7.6081e-05 - val_msle: 2.4377e-05\n",
      "Epoch 20/20\n",
      "\u001b[1m3614/3617\u001b[0m \u001b[32m━━━━━━━━━━━━━━━━━━━\u001b[0m\u001b[37m━\u001b[0m \u001b[1m0s\u001b[0m 14ms/step - cosine_similarity: 0.7664 - loss: 7.0431e-05 - mae: 0.0055 - mape: 2508.9910 - mse: 7.0431e-05 - msle: 3.2896e-05"
     ]
    },
    {
     "name": "stderr",
     "output_type": "stream",
     "text": [
      "WARNING:absl:You are saving your model as an HDF5 file via `model.save()` or `keras.saving.save_model(model)`. This file format is considered legacy. We recommend using instead the native Keras format, e.g. `model.save('my_model.keras')` or `keras.saving.save_model(model, 'my_model.keras')`. \n"
     ]
    },
    {
     "name": "stdout",
     "output_type": "stream",
     "text": [
      "\u001b[1m3617/3617\u001b[0m \u001b[32m━━━━━━━━━━━━━━━━━━━━\u001b[0m\u001b[37m\u001b[0m \u001b[1m51s\u001b[0m 14ms/step - cosine_similarity: 0.7664 - loss: 7.0431e-05 - mae: 0.0055 - mape: 2509.0049 - mse: 7.0431e-05 - msle: 3.2896e-05 - val_cosine_similarity: 1.0000 - val_loss: 1.4843e-05 - val_mae: 0.0028 - val_mape: 0.3621 - val_mse: 1.4843e-05 - val_msle: 4.7535e-06\n",
      "\u001b[1m1/1\u001b[0m \u001b[32m━━━━━━━━━━━━━━━━━━━━\u001b[0m\u001b[37m\u001b[0m \u001b[1m0s\u001b[0m 427ms/step\n"
     ]
    },
    {
     "name": "stderr",
     "output_type": "stream",
     "text": [
      "2025/03/31 17:35:12 WARNING mlflow.utils.environment: Encountered an unexpected error while inferring pip requirements (model URI: /tmp/tmpcc49qz89/model, flavor: tensorflow). Fall back to return ['tensorflow==2.18.0', 'cloudpickle==3.1.0']. Set logging level to DEBUG to see the full traceback. \n",
      "2025/03/31 17:35:13 WARNING mlflow.tensorflow: You are saving a TensorFlow Core model or Keras model without a signature. Inference with mlflow.pyfunc.spark_udf() will not work unless the model's pyfunc representation accepts pandas DataFrames as inference inputs.\n",
      "2025/03/31 17:35:15 WARNING mlflow.utils.environment: Encountered an unexpected error while inferring pip requirements (model URI: /tmp/tmpsl6jp9lv/model, flavor: tensorflow). Fall back to return ['tensorflow==2.18.0', 'cloudpickle==3.1.0']. Set logging level to DEBUG to see the full traceback. \n",
      "\u001b[31m2025/03/31 17:35:15 WARNING mlflow.models.model: Model logged without a signature and input example. Please set `input_example` parameter when logging the model to auto infer the model signature.\u001b[0m\n",
      "Successfully registered model 'FLSTM_Model'.\n",
      "Created version '1' of model 'FLSTM_Model'.\n"
     ]
    }
   ],
   "source": [
    "\n",
    "checkpoint_cb = ModelCheckpoint(\n",
    "    filepath= f\"./model_epoch_{{epoch:02d}}_val_loss_{{val_loss:.2f}}.keras\",\n",
    "    save_best_only=True,\n",
    "    monitor='val_mse',  # Change 'val_loss' to the primary metric you want to monitor\n",
    "    mode='min'\n",
    ")\n",
    "\n",
    "inputs = tf.keras.Input(shape=(X_train_scaled.shape[1],X_train_scaled.shape[2]))\n",
    "x = CustomLSTM(160, return_sequences=True)(inputs)\n",
    "x = Dropout(0.2)(x)\n",
    "x = Dense(164)(x)\n",
    "x = CustomLSTM(240, return_sequences=True)(x)\n",
    "x = Dropout(0.2)(x)\n",
    "x = CustomLSTM(240)(x)\n",
    "x = Dropout(0.2)(x)\n",
    "x = Dense(1)(x)\n",
    "\n",
    "model_flstm = tf.keras.Model(inputs, x)\n",
    "model_flstm.summary()\n",
    "model_flstm.compile(optimizer='adam', loss='mse', metrics=['mae','mape','mse','msle','cosine_similarity'])\n",
    "\n",
    "# Enable MLflow autologging\n",
    "mlflow.tensorflow.autolog()\n",
    "\n",
    "# Start an MLflow run\n",
    "with mlflow.start_run() as run:\n",
    "    history_flstm=model_flstm.fit(X_train_scaled,\n",
    "                                  y_train_scaled,batch_size=128,\n",
    "                                  epochs=20,\n",
    "                                  validation_data=(X_val_scaled,y_val_scaled),\n",
    "                                  callbacks=[checkpoint_cb])\n",
    "\n",
    "    # Save the training history to a JSON file\n",
    "    with open(f'./training_history.json', 'w') as f:\n",
    "        json.dump(history_flstm.history, f)\n",
    "        \n",
    "    # Log and register the model with MLflow\n",
    "    mlflow.tensorflow.log_model(model=model_flstm, artifact_path=\"data/model/flstm\", registered_model_name=\"FLSTM_Model\")\n",
    "\n"
   ]
  },
  {
   "cell_type": "markdown",
   "metadata": {
    "deletable": true,
    "editable": true,
    "frozen": false
   },
   "source": [
    "## LSTM Training"
   ]
  },
  {
   "cell_type": "code",
   "execution_count": 16,
   "metadata": {
    "deletable": true,
    "editable": true,
    "execution": {
     "iopub.execute_input": "2025-03-31T14:05:15.112213Z",
     "iopub.status.busy": "2025-03-31T14:05:15.112145Z",
     "iopub.status.idle": "2025-03-31T14:23:15.265623Z",
     "shell.execute_reply": "2025-03-31T14:23:15.265338Z",
     "shell.execute_reply.started": "2025-03-31T14:05:15.112207Z"
    },
    "frozen": false,
    "scrolled": true
   },
   "outputs": [
    {
     "data": {
      "text/html": [
       "<pre style=\"white-space:pre;overflow-x:auto;line-height:normal;font-family:Menlo,'DejaVu Sans Mono',consolas,'Courier New',monospace\"><span style=\"font-weight: bold\">Model: \"functional_4\"</span>\n",
       "</pre>\n"
      ],
      "text/plain": [
       "\u001b[1mModel: \"functional_4\"\u001b[0m\n"
      ]
     },
     "metadata": {},
     "output_type": "display_data"
    },
    {
     "data": {
      "text/html": [
       "<pre style=\"white-space:pre;overflow-x:auto;line-height:normal;font-family:Menlo,'DejaVu Sans Mono',consolas,'Courier New',monospace\">┏━━━━━━━━━━━━━━━━━━━━━━━━━━━━━━━━━┳━━━━━━━━━━━━━━━━━━━━━━━━┳━━━━━━━━━━━━━━━┓\n",
       "┃<span style=\"font-weight: bold\"> Layer (type)                    </span>┃<span style=\"font-weight: bold\"> Output Shape           </span>┃<span style=\"font-weight: bold\">       Param # </span>┃\n",
       "┡━━━━━━━━━━━━━━━━━━━━━━━━━━━━━━━━━╇━━━━━━━━━━━━━━━━━━━━━━━━╇━━━━━━━━━━━━━━━┩\n",
       "│ input_layer_4 (<span style=\"color: #0087ff; text-decoration-color: #0087ff\">InputLayer</span>)      │ (<span style=\"color: #00d7ff; text-decoration-color: #00d7ff\">None</span>, <span style=\"color: #00af00; text-decoration-color: #00af00\">10</span>, <span style=\"color: #00af00; text-decoration-color: #00af00\">3</span>)          │             <span style=\"color: #00af00; text-decoration-color: #00af00\">0</span> │\n",
       "├─────────────────────────────────┼────────────────────────┼───────────────┤\n",
       "│ lstm (<span style=\"color: #0087ff; text-decoration-color: #0087ff\">LSTM</span>)                     │ (<span style=\"color: #00d7ff; text-decoration-color: #00d7ff\">None</span>, <span style=\"color: #00af00; text-decoration-color: #00af00\">10</span>, <span style=\"color: #00af00; text-decoration-color: #00af00\">320</span>)        │       <span style=\"color: #00af00; text-decoration-color: #00af00\">414,720</span> │\n",
       "├─────────────────────────────────┼────────────────────────┼───────────────┤\n",
       "│ dropout_12 (<span style=\"color: #0087ff; text-decoration-color: #0087ff\">Dropout</span>)            │ (<span style=\"color: #00d7ff; text-decoration-color: #00d7ff\">None</span>, <span style=\"color: #00af00; text-decoration-color: #00af00\">10</span>, <span style=\"color: #00af00; text-decoration-color: #00af00\">320</span>)        │             <span style=\"color: #00af00; text-decoration-color: #00af00\">0</span> │\n",
       "├─────────────────────────────────┼────────────────────────┼───────────────┤\n",
       "│ dense_8 (<span style=\"color: #0087ff; text-decoration-color: #0087ff\">Dense</span>)                 │ (<span style=\"color: #00d7ff; text-decoration-color: #00d7ff\">None</span>, <span style=\"color: #00af00; text-decoration-color: #00af00\">10</span>, <span style=\"color: #00af00; text-decoration-color: #00af00\">164</span>)        │        <span style=\"color: #00af00; text-decoration-color: #00af00\">52,644</span> │\n",
       "├─────────────────────────────────┼────────────────────────┼───────────────┤\n",
       "│ lstm_1 (<span style=\"color: #0087ff; text-decoration-color: #0087ff\">LSTM</span>)                   │ (<span style=\"color: #00d7ff; text-decoration-color: #00d7ff\">None</span>, <span style=\"color: #00af00; text-decoration-color: #00af00\">10</span>, <span style=\"color: #00af00; text-decoration-color: #00af00\">320</span>)        │       <span style=\"color: #00af00; text-decoration-color: #00af00\">620,800</span> │\n",
       "├─────────────────────────────────┼────────────────────────┼───────────────┤\n",
       "│ dropout_13 (<span style=\"color: #0087ff; text-decoration-color: #0087ff\">Dropout</span>)            │ (<span style=\"color: #00d7ff; text-decoration-color: #00d7ff\">None</span>, <span style=\"color: #00af00; text-decoration-color: #00af00\">10</span>, <span style=\"color: #00af00; text-decoration-color: #00af00\">320</span>)        │             <span style=\"color: #00af00; text-decoration-color: #00af00\">0</span> │\n",
       "├─────────────────────────────────┼────────────────────────┼───────────────┤\n",
       "│ lstm_2 (<span style=\"color: #0087ff; text-decoration-color: #0087ff\">LSTM</span>)                   │ (<span style=\"color: #00d7ff; text-decoration-color: #00d7ff\">None</span>, <span style=\"color: #00af00; text-decoration-color: #00af00\">320</span>)            │       <span style=\"color: #00af00; text-decoration-color: #00af00\">820,480</span> │\n",
       "├─────────────────────────────────┼────────────────────────┼───────────────┤\n",
       "│ dropout_14 (<span style=\"color: #0087ff; text-decoration-color: #0087ff\">Dropout</span>)            │ (<span style=\"color: #00d7ff; text-decoration-color: #00d7ff\">None</span>, <span style=\"color: #00af00; text-decoration-color: #00af00\">320</span>)            │             <span style=\"color: #00af00; text-decoration-color: #00af00\">0</span> │\n",
       "├─────────────────────────────────┼────────────────────────┼───────────────┤\n",
       "│ dense_9 (<span style=\"color: #0087ff; text-decoration-color: #0087ff\">Dense</span>)                 │ (<span style=\"color: #00d7ff; text-decoration-color: #00d7ff\">None</span>, <span style=\"color: #00af00; text-decoration-color: #00af00\">1</span>)              │           <span style=\"color: #00af00; text-decoration-color: #00af00\">321</span> │\n",
       "└─────────────────────────────────┴────────────────────────┴───────────────┘\n",
       "</pre>\n"
      ],
      "text/plain": [
       "┏━━━━━━━━━━━━━━━━━━━━━━━━━━━━━━━━━┳━━━━━━━━━━━━━━━━━━━━━━━━┳━━━━━━━━━━━━━━━┓\n",
       "┃\u001b[1m \u001b[0m\u001b[1mLayer (type)                   \u001b[0m\u001b[1m \u001b[0m┃\u001b[1m \u001b[0m\u001b[1mOutput Shape          \u001b[0m\u001b[1m \u001b[0m┃\u001b[1m \u001b[0m\u001b[1m      Param #\u001b[0m\u001b[1m \u001b[0m┃\n",
       "┡━━━━━━━━━━━━━━━━━━━━━━━━━━━━━━━━━╇━━━━━━━━━━━━━━━━━━━━━━━━╇━━━━━━━━━━━━━━━┩\n",
       "│ input_layer_4 (\u001b[38;5;33mInputLayer\u001b[0m)      │ (\u001b[38;5;45mNone\u001b[0m, \u001b[38;5;34m10\u001b[0m, \u001b[38;5;34m3\u001b[0m)          │             \u001b[38;5;34m0\u001b[0m │\n",
       "├─────────────────────────────────┼────────────────────────┼───────────────┤\n",
       "│ lstm (\u001b[38;5;33mLSTM\u001b[0m)                     │ (\u001b[38;5;45mNone\u001b[0m, \u001b[38;5;34m10\u001b[0m, \u001b[38;5;34m320\u001b[0m)        │       \u001b[38;5;34m414,720\u001b[0m │\n",
       "├─────────────────────────────────┼────────────────────────┼───────────────┤\n",
       "│ dropout_12 (\u001b[38;5;33mDropout\u001b[0m)            │ (\u001b[38;5;45mNone\u001b[0m, \u001b[38;5;34m10\u001b[0m, \u001b[38;5;34m320\u001b[0m)        │             \u001b[38;5;34m0\u001b[0m │\n",
       "├─────────────────────────────────┼────────────────────────┼───────────────┤\n",
       "│ dense_8 (\u001b[38;5;33mDense\u001b[0m)                 │ (\u001b[38;5;45mNone\u001b[0m, \u001b[38;5;34m10\u001b[0m, \u001b[38;5;34m164\u001b[0m)        │        \u001b[38;5;34m52,644\u001b[0m │\n",
       "├─────────────────────────────────┼────────────────────────┼───────────────┤\n",
       "│ lstm_1 (\u001b[38;5;33mLSTM\u001b[0m)                   │ (\u001b[38;5;45mNone\u001b[0m, \u001b[38;5;34m10\u001b[0m, \u001b[38;5;34m320\u001b[0m)        │       \u001b[38;5;34m620,800\u001b[0m │\n",
       "├─────────────────────────────────┼────────────────────────┼───────────────┤\n",
       "│ dropout_13 (\u001b[38;5;33mDropout\u001b[0m)            │ (\u001b[38;5;45mNone\u001b[0m, \u001b[38;5;34m10\u001b[0m, \u001b[38;5;34m320\u001b[0m)        │             \u001b[38;5;34m0\u001b[0m │\n",
       "├─────────────────────────────────┼────────────────────────┼───────────────┤\n",
       "│ lstm_2 (\u001b[38;5;33mLSTM\u001b[0m)                   │ (\u001b[38;5;45mNone\u001b[0m, \u001b[38;5;34m320\u001b[0m)            │       \u001b[38;5;34m820,480\u001b[0m │\n",
       "├─────────────────────────────────┼────────────────────────┼───────────────┤\n",
       "│ dropout_14 (\u001b[38;5;33mDropout\u001b[0m)            │ (\u001b[38;5;45mNone\u001b[0m, \u001b[38;5;34m320\u001b[0m)            │             \u001b[38;5;34m0\u001b[0m │\n",
       "├─────────────────────────────────┼────────────────────────┼───────────────┤\n",
       "│ dense_9 (\u001b[38;5;33mDense\u001b[0m)                 │ (\u001b[38;5;45mNone\u001b[0m, \u001b[38;5;34m1\u001b[0m)              │           \u001b[38;5;34m321\u001b[0m │\n",
       "└─────────────────────────────────┴────────────────────────┴───────────────┘\n"
      ]
     },
     "metadata": {},
     "output_type": "display_data"
    },
    {
     "data": {
      "text/html": [
       "<pre style=\"white-space:pre;overflow-x:auto;line-height:normal;font-family:Menlo,'DejaVu Sans Mono',consolas,'Courier New',monospace\"><span style=\"font-weight: bold\"> Total params: </span><span style=\"color: #00af00; text-decoration-color: #00af00\">1,908,965</span> (7.28 MB)\n",
       "</pre>\n"
      ],
      "text/plain": [
       "\u001b[1m Total params: \u001b[0m\u001b[38;5;34m1,908,965\u001b[0m (7.28 MB)\n"
      ]
     },
     "metadata": {},
     "output_type": "display_data"
    },
    {
     "data": {
      "text/html": [
       "<pre style=\"white-space:pre;overflow-x:auto;line-height:normal;font-family:Menlo,'DejaVu Sans Mono',consolas,'Courier New',monospace\"><span style=\"font-weight: bold\"> Trainable params: </span><span style=\"color: #00af00; text-decoration-color: #00af00\">1,908,965</span> (7.28 MB)\n",
       "</pre>\n"
      ],
      "text/plain": [
       "\u001b[1m Trainable params: \u001b[0m\u001b[38;5;34m1,908,965\u001b[0m (7.28 MB)\n"
      ]
     },
     "metadata": {},
     "output_type": "display_data"
    },
    {
     "data": {
      "text/html": [
       "<pre style=\"white-space:pre;overflow-x:auto;line-height:normal;font-family:Menlo,'DejaVu Sans Mono',consolas,'Courier New',monospace\"><span style=\"font-weight: bold\"> Non-trainable params: </span><span style=\"color: #00af00; text-decoration-color: #00af00\">0</span> (0.00 B)\n",
       "</pre>\n"
      ],
      "text/plain": [
       "\u001b[1m Non-trainable params: \u001b[0m\u001b[38;5;34m0\u001b[0m (0.00 B)\n"
      ]
     },
     "metadata": {},
     "output_type": "display_data"
    },
    {
     "data": {
      "text/html": [
       "<pre style=\"white-space:pre;overflow-x:auto;line-height:normal;font-family:Menlo,'DejaVu Sans Mono',consolas,'Courier New',monospace\"></pre>\n"
      ],
      "text/plain": []
     },
     "metadata": {},
     "output_type": "display_data"
    },
    {
     "name": "stdout",
     "output_type": "stream",
     "text": [
      "Epoch 1/20\n",
      "\u001b[1m3614/3617\u001b[0m \u001b[32m━━━━━━━━━━━━━━━━━━━\u001b[0m\u001b[37m━\u001b[0m \u001b[1m0s\u001b[0m 15ms/step - cosine_similarity: 0.8063 - loss: 5.2622e-04 - mae: 0.0088 - mape: 2011.6223 - mse: 5.2622e-04 - msle: 2.7585e-04"
     ]
    },
    {
     "name": "stderr",
     "output_type": "stream",
     "text": [
      "WARNING:absl:You are saving your model as an HDF5 file via `model.save()` or `keras.saving.save_model(model)`. This file format is considered legacy. We recommend using instead the native Keras format, e.g. `model.save('my_model.keras')` or `keras.saving.save_model(model, 'my_model.keras')`. \n"
     ]
    },
    {
     "name": "stdout",
     "output_type": "stream",
     "text": [
      "\u001b[1m3617/3617\u001b[0m \u001b[32m━━━━━━━━━━━━━━━━━━━━\u001b[0m\u001b[37m\u001b[0m \u001b[1m57s\u001b[0m 15ms/step - cosine_similarity: 0.8063 - loss: 5.2585e-04 - mae: 0.0088 - mape: 2011.8254 - mse: 5.2585e-04 - msle: 2.7564e-04 - val_cosine_similarity: 1.0000 - val_loss: 2.9841e-04 - val_mae: 0.0168 - val_mape: 2.1897 - val_mse: 2.9841e-04 - val_msle: 9.4448e-05\n",
      "Epoch 2/20\n",
      "\u001b[1m3617/3617\u001b[0m \u001b[32m━━━━━━━━━━━━━━━━━━━━\u001b[0m\u001b[37m\u001b[0m \u001b[1m53s\u001b[0m 15ms/step - cosine_similarity: 0.7687 - loss: 9.7743e-05 - mae: 0.0062 - mape: 2520.5159 - mse: 9.7743e-05 - msle: 4.4101e-05 - val_cosine_similarity: 1.0000 - val_loss: 3.6433e-04 - val_mae: 0.0186 - val_mape: 2.4242 - val_mse: 3.6433e-04 - val_msle: 1.1519e-04\n",
      "Epoch 3/20\n",
      "\u001b[1m3615/3617\u001b[0m \u001b[32m━━━━━━━━━━━━━━━━━━━\u001b[0m\u001b[37m━\u001b[0m \u001b[1m0s\u001b[0m 15ms/step - cosine_similarity: 0.7696 - loss: 8.6548e-05 - mae: 0.0059 - mape: 2530.0242 - mse: 8.6548e-05 - msle: 3.9582e-05"
     ]
    },
    {
     "name": "stderr",
     "output_type": "stream",
     "text": [
      "WARNING:absl:You are saving your model as an HDF5 file via `model.save()` or `keras.saving.save_model(model)`. This file format is considered legacy. We recommend using instead the native Keras format, e.g. `model.save('my_model.keras')` or `keras.saving.save_model(model, 'my_model.keras')`. \n"
     ]
    },
    {
     "name": "stdout",
     "output_type": "stream",
     "text": [
      "\u001b[1m3617/3617\u001b[0m \u001b[32m━━━━━━━━━━━━━━━━━━━━\u001b[0m\u001b[37m\u001b[0m \u001b[1m56s\u001b[0m 16ms/step - cosine_similarity: 0.7696 - loss: 8.6548e-05 - mae: 0.0059 - mape: 2530.0613 - mse: 8.6548e-05 - msle: 3.9582e-05 - val_cosine_similarity: 1.0000 - val_loss: 7.1913e-05 - val_mae: 0.0076 - val_mape: 0.9912 - val_mse: 7.1913e-05 - val_msle: 2.3045e-05\n",
      "Epoch 4/20\n",
      "\u001b[1m3614/3617\u001b[0m \u001b[32m━━━━━━━━━━━━━━━━━━━\u001b[0m\u001b[37m━\u001b[0m \u001b[1m0s\u001b[0m 15ms/step - cosine_similarity: 0.7675 - loss: 8.5458e-05 - mae: 0.0060 - mape: 2707.2781 - mse: 8.5458e-05 - msle: 3.9630e-05"
     ]
    },
    {
     "name": "stderr",
     "output_type": "stream",
     "text": [
      "WARNING:absl:You are saving your model as an HDF5 file via `model.save()` or `keras.saving.save_model(model)`. This file format is considered legacy. We recommend using instead the native Keras format, e.g. `model.save('my_model.keras')` or `keras.saving.save_model(model, 'my_model.keras')`. \n"
     ]
    },
    {
     "name": "stdout",
     "output_type": "stream",
     "text": [
      "\u001b[1m3617/3617\u001b[0m \u001b[32m━━━━━━━━━━━━━━━━━━━━\u001b[0m\u001b[37m\u001b[0m \u001b[1m55s\u001b[0m 15ms/step - cosine_similarity: 0.7675 - loss: 8.5453e-05 - mae: 0.0060 - mape: 2707.1260 - mse: 8.5453e-05 - msle: 3.9628e-05 - val_cosine_similarity: 1.0000 - val_loss: 2.0851e-05 - val_mae: 0.0034 - val_mape: 0.4446 - val_mse: 2.0851e-05 - val_msle: 6.6751e-06\n",
      "Epoch 5/20\n",
      "\u001b[1m3617/3617\u001b[0m \u001b[32m━━━━━━━━━━━━━━━━━━━━\u001b[0m\u001b[37m\u001b[0m \u001b[1m53s\u001b[0m 15ms/step - cosine_similarity: 0.7697 - loss: 7.7646e-05 - mae: 0.0057 - mape: 2429.4382 - mse: 7.7646e-05 - msle: 3.6357e-05 - val_cosine_similarity: 1.0000 - val_loss: 6.1107e-04 - val_mae: 0.0243 - val_mape: 3.1626 - val_mse: 6.1107e-04 - val_msle: 1.9252e-04\n",
      "Epoch 6/20\n",
      "\u001b[1m3616/3617\u001b[0m \u001b[32m━━━━━━━━━━━━━━━━━━━\u001b[0m\u001b[37m━\u001b[0m \u001b[1m0s\u001b[0m 15ms/step - cosine_similarity: 0.7706 - loss: 7.3682e-05 - mae: 0.0056 - mape: 2470.3850 - mse: 7.3682e-05 - msle: 3.4360e-05"
     ]
    },
    {
     "name": "stderr",
     "output_type": "stream",
     "text": [
      "WARNING:absl:You are saving your model as an HDF5 file via `model.save()` or `keras.saving.save_model(model)`. This file format is considered legacy. We recommend using instead the native Keras format, e.g. `model.save('my_model.keras')` or `keras.saving.save_model(model, 'my_model.keras')`. \n"
     ]
    },
    {
     "name": "stdout",
     "output_type": "stream",
     "text": [
      "\u001b[1m3617/3617\u001b[0m \u001b[32m━━━━━━━━━━━━━━━━━━━━\u001b[0m\u001b[37m\u001b[0m \u001b[1m53s\u001b[0m 15ms/step - cosine_similarity: 0.7706 - loss: 7.3681e-05 - mae: 0.0056 - mape: 2470.3726 - mse: 7.3681e-05 - msle: 3.4360e-05 - val_cosine_similarity: 1.0000 - val_loss: 1.8938e-05 - val_mae: 0.0032 - val_mape: 0.4156 - val_mse: 1.8938e-05 - val_msle: 6.0656e-06\n",
      "Epoch 7/20\n",
      "\u001b[1m3617/3617\u001b[0m \u001b[32m━━━━━━━━━━━━━━━━━━━━\u001b[0m\u001b[37m\u001b[0m \u001b[1m54s\u001b[0m 15ms/step - cosine_similarity: 0.7710 - loss: 7.3716e-05 - mae: 0.0056 - mape: 2443.9514 - mse: 7.3716e-05 - msle: 3.4303e-05 - val_cosine_similarity: 1.0000 - val_loss: 1.2526e-04 - val_mae: 0.0104 - val_mape: 1.3472 - val_mse: 1.2526e-04 - val_msle: 4.0198e-05\n",
      "Epoch 8/20\n",
      "\u001b[1m3617/3617\u001b[0m \u001b[32m━━━━━━━━━━━━━━━━━━━━\u001b[0m\u001b[37m\u001b[0m \u001b[1m54s\u001b[0m 15ms/step - cosine_similarity: 0.7730 - loss: 6.7910e-05 - mae: 0.0054 - mape: 2349.4673 - mse: 6.7910e-05 - msle: 3.1762e-05 - val_cosine_similarity: 1.0000 - val_loss: 7.9356e-05 - val_mae: 0.0080 - val_mape: 1.0415 - val_mse: 7.9356e-05 - val_msle: 2.5270e-05\n",
      "Epoch 9/20\n",
      "\u001b[1m3617/3617\u001b[0m \u001b[32m━━━━━━━━━━━━━━━━━━━━\u001b[0m\u001b[37m\u001b[0m \u001b[1m50s\u001b[0m 14ms/step - cosine_similarity: 0.7728 - loss: 6.5358e-05 - mae: 0.0053 - mape: 2321.7979 - mse: 6.5358e-05 - msle: 3.0604e-05 - val_cosine_similarity: 1.0000 - val_loss: 2.6119e-04 - val_mae: 0.0156 - val_mape: 2.0293 - val_mse: 2.6119e-04 - val_msle: 8.2722e-05\n",
      "Epoch 10/20\n",
      "\u001b[1m3617/3617\u001b[0m \u001b[32m━━━━━━━━━━━━━━━━━━━━\u001b[0m\u001b[37m\u001b[0m \u001b[1m53s\u001b[0m 15ms/step - cosine_similarity: 0.7728 - loss: 6.5326e-05 - mae: 0.0053 - mape: 2407.8721 - mse: 6.5326e-05 - msle: 3.0549e-05 - val_cosine_similarity: 1.0000 - val_loss: 2.8471e-04 - val_mae: 0.0164 - val_mape: 2.1240 - val_mse: 2.8471e-04 - val_msle: 9.1697e-05\n",
      "Epoch 11/20\n",
      "\u001b[1m3617/3617\u001b[0m \u001b[32m━━━━━━━━━━━━━━━━━━━━\u001b[0m\u001b[37m\u001b[0m \u001b[1m0s\u001b[0m 15ms/step - cosine_similarity: 0.7736 - loss: 6.2750e-05 - mae: 0.0051 - mape: 2252.7263 - mse: 6.2750e-05 - msle: 2.9356e-05"
     ]
    },
    {
     "name": "stderr",
     "output_type": "stream",
     "text": [
      "WARNING:absl:You are saving your model as an HDF5 file via `model.save()` or `keras.saving.save_model(model)`. This file format is considered legacy. We recommend using instead the native Keras format, e.g. `model.save('my_model.keras')` or `keras.saving.save_model(model, 'my_model.keras')`. \n"
     ]
    },
    {
     "name": "stdout",
     "output_type": "stream",
     "text": [
      "\u001b[1m3617/3617\u001b[0m \u001b[32m━━━━━━━━━━━━━━━━━━━━\u001b[0m\u001b[37m\u001b[0m \u001b[1m55s\u001b[0m 15ms/step - cosine_similarity: 0.7736 - loss: 6.2750e-05 - mae: 0.0051 - mape: 2252.7283 - mse: 6.2750e-05 - msle: 2.9356e-05 - val_cosine_similarity: 1.0000 - val_loss: 1.6163e-05 - val_mae: 0.0031 - val_mape: 0.4027 - val_mse: 1.6163e-05 - val_msle: 5.1757e-06\n",
      "Epoch 12/20\n",
      "\u001b[1m3617/3617\u001b[0m \u001b[32m━━━━━━━━━━━━━━━━━━━━\u001b[0m\u001b[37m\u001b[0m \u001b[1m52s\u001b[0m 14ms/step - cosine_similarity: 0.7720 - loss: 6.2823e-05 - mae: 0.0052 - mape: 2317.5979 - mse: 6.2823e-05 - msle: 2.9397e-05 - val_cosine_similarity: 1.0000 - val_loss: 1.9864e-05 - val_mae: 0.0035 - val_mape: 0.4597 - val_mse: 1.9864e-05 - val_msle: 6.3584e-06\n",
      "Epoch 13/20\n",
      "\u001b[1m3617/3617\u001b[0m \u001b[32m━━━━━━━━━━━━━━━━━━━━\u001b[0m\u001b[37m\u001b[0m \u001b[1m55s\u001b[0m 15ms/step - cosine_similarity: 0.7728 - loss: 6.0966e-05 - mae: 0.0051 - mape: 2362.6047 - mse: 6.0966e-05 - msle: 2.8724e-05 - val_cosine_similarity: 1.0000 - val_loss: 1.5327e-04 - val_mae: 0.0118 - val_mape: 1.5269 - val_mse: 1.5327e-04 - val_msle: 4.9223e-05\n",
      "Epoch 14/20\n",
      "\u001b[1m3617/3617\u001b[0m \u001b[32m━━━━━━━━━━━━━━━━━━━━\u001b[0m\u001b[37m\u001b[0m \u001b[1m54s\u001b[0m 15ms/step - cosine_similarity: 0.7737 - loss: 5.9222e-05 - mae: 0.0050 - mape: 2253.8564 - mse: 5.9222e-05 - msle: 2.7853e-05 - val_cosine_similarity: 1.0000 - val_loss: 1.3174e-04 - val_mae: 0.0108 - val_mape: 1.4106 - val_mse: 1.3174e-04 - val_msle: 4.1855e-05\n",
      "Epoch 15/20\n",
      "\u001b[1m3617/3617\u001b[0m \u001b[32m━━━━━━━━━━━━━━━━━━━━\u001b[0m\u001b[37m\u001b[0m \u001b[1m51s\u001b[0m 14ms/step - cosine_similarity: 0.7744 - loss: 5.9005e-05 - mae: 0.0050 - mape: 2317.2166 - mse: 5.9005e-05 - msle: 2.7687e-05 - val_cosine_similarity: 1.0000 - val_loss: 2.3290e-05 - val_mae: 0.0040 - val_mape: 0.5185 - val_mse: 2.3290e-05 - val_msle: 7.4518e-06\n",
      "Epoch 16/20\n",
      "\u001b[1m3617/3617\u001b[0m \u001b[32m━━━━━━━━━━━━━━━━━━━━\u001b[0m\u001b[37m\u001b[0m \u001b[1m53s\u001b[0m 15ms/step - cosine_similarity: 0.7750 - loss: 5.7815e-05 - mae: 0.0050 - mape: 2273.6230 - mse: 5.7815e-05 - msle: 2.7114e-05 - val_cosine_similarity: 1.0000 - val_loss: 1.3222e-04 - val_mae: 0.0109 - val_mape: 1.4173 - val_mse: 1.3222e-04 - val_msle: 4.2006e-05\n",
      "Epoch 17/20\n",
      "\u001b[1m3617/3617\u001b[0m \u001b[32m━━━━━━━━━━━━━━━━━━━━\u001b[0m\u001b[37m\u001b[0m \u001b[1m50s\u001b[0m 14ms/step - cosine_similarity: 0.7741 - loss: 5.8058e-05 - mae: 0.0049 - mape: 2244.7971 - mse: 5.8058e-05 - msle: 2.7213e-05 - val_cosine_similarity: 1.0000 - val_loss: 4.9723e-04 - val_mae: 0.0220 - val_mape: 2.8585 - val_mse: 4.9723e-04 - val_msle: 1.5687e-04\n",
      "Epoch 18/20\n",
      "\u001b[1m3617/3617\u001b[0m \u001b[32m━━━━━━━━━━━━━━━━━━━━\u001b[0m\u001b[37m\u001b[0m \u001b[1m54s\u001b[0m 15ms/step - cosine_similarity: 0.7735 - loss: 5.6284e-05 - mae: 0.0049 - mape: 2267.0742 - mse: 5.6284e-05 - msle: 2.6436e-05 - val_cosine_similarity: 1.0000 - val_loss: 4.2642e-05 - val_mae: 0.0058 - val_mape: 0.7559 - val_mse: 4.2642e-05 - val_msle: 1.3650e-05\n",
      "Epoch 19/20\n",
      "\u001b[1m3616/3617\u001b[0m \u001b[32m━━━━━━━━━━━━━━━━━━━\u001b[0m\u001b[37m━\u001b[0m \u001b[1m0s\u001b[0m 14ms/step - cosine_similarity: 0.7752 - loss: 5.6658e-05 - mae: 0.0049 - mape: 2211.4429 - mse: 5.6658e-05 - msle: 2.6580e-05"
     ]
    },
    {
     "name": "stderr",
     "output_type": "stream",
     "text": [
      "WARNING:absl:You are saving your model as an HDF5 file via `model.save()` or `keras.saving.save_model(model)`. This file format is considered legacy. We recommend using instead the native Keras format, e.g. `model.save('my_model.keras')` or `keras.saving.save_model(model, 'my_model.keras')`. \n"
     ]
    },
    {
     "name": "stdout",
     "output_type": "stream",
     "text": [
      "\u001b[1m3617/3617\u001b[0m \u001b[32m━━━━━━━━━━━━━━━━━━━━\u001b[0m\u001b[37m\u001b[0m \u001b[1m52s\u001b[0m 14ms/step - cosine_similarity: 0.7752 - loss: 5.6658e-05 - mae: 0.0049 - mape: 2211.4695 - mse: 5.6658e-05 - msle: 2.6580e-05 - val_cosine_similarity: 1.0000 - val_loss: 1.5856e-05 - val_mae: 0.0030 - val_mape: 0.3897 - val_mse: 1.5856e-05 - val_msle: 5.0742e-06\n",
      "Epoch 20/20\n",
      "\u001b[1m3617/3617\u001b[0m \u001b[32m━━━━━━━━━━━━━━━━━━━━\u001b[0m\u001b[37m\u001b[0m \u001b[1m58s\u001b[0m 16ms/step - cosine_similarity: 0.7768 - loss: 5.5453e-05 - mae: 0.0048 - mape: 2317.9878 - mse: 5.5453e-05 - msle: 2.6053e-05 - val_cosine_similarity: 1.0000 - val_loss: 1.3781e-04 - val_mae: 0.0112 - val_mape: 1.4574 - val_mse: 1.3781e-04 - val_msle: 4.4247e-05\n",
      "\u001b[1m1/1\u001b[0m \u001b[32m━━━━━━━━━━━━━━━━━━━━\u001b[0m\u001b[37m\u001b[0m \u001b[1m0s\u001b[0m 95ms/step\n"
     ]
    },
    {
     "name": "stderr",
     "output_type": "stream",
     "text": [
      "2025/03/31 17:53:12 WARNING mlflow.tensorflow: You are saving a TensorFlow Core model or Keras model without a signature. Inference with mlflow.pyfunc.spark_udf() will not work unless the model's pyfunc representation accepts pandas DataFrames as inference inputs.\n",
      "\u001b[31m2025/03/31 17:53:15 WARNING mlflow.models.model: Model logged without a signature and input example. Please set `input_example` parameter when logging the model to auto infer the model signature.\u001b[0m\n",
      "Successfully registered model 'LSTM_Model'.\n",
      "Created version '1' of model 'LSTM_Model'.\n"
     ]
    }
   ],
   "source": [
    "\n",
    "# Define the model checkpoint callback\n",
    "checkpoint_cb = ModelCheckpoint(\n",
    "    filepath=f\"./model_epoch_{{epoch:02d}}_val_loss_{{val_loss:.2f}}.keras\",\n",
    "    save_best_only=True,\n",
    "    monitor='val_mse',\n",
    "    mode='min'\n",
    ")\n",
    "\n",
    "# Build your LSTM model\n",
    "inputs = tf.keras.Input(shape=(X_train_scaled.shape[1], X_train_scaled.shape[2]))\n",
    "x = tf.keras.layers.LSTM(320, return_sequences=True)(inputs)\n",
    "x = tf.keras.layers.Dropout(0.2)(x)\n",
    "x = Dense(164)(x)\n",
    "x = tf.keras.layers.LSTM(320, return_sequences=True)(x)\n",
    "x = tf.keras.layers.Dropout(0.2)(x)\n",
    "x = tf.keras.layers.LSTM(320)(x)\n",
    "x = tf.keras.layers.Dropout(0.2)(x)\n",
    "x = tf.keras.layers.Dense(1)(x)\n",
    "\n",
    "model_lstm = tf.keras.Model(inputs, x)\n",
    "model_lstm.compile(optimizer='adam', loss='mse', metrics=['mae', 'mape', 'mse', 'msle', 'cosine_similarity'])\n",
    "model_lstm.summary()\n",
    "\n",
    "# Enable MLflow autologging\n",
    "mlflow.tensorflow.autolog()\n",
    "\n",
    "# Start an MLflow run\n",
    "with mlflow.start_run() as run:\n",
    "    # Train the model\n",
    "    history_lstm = model_lstm.fit(\n",
    "        X_train_scaled, y_train_scaled, \n",
    "        batch_size=128, \n",
    "        epochs=20, \n",
    "        validation_data=(X_val_scaled, y_val_scaled), \n",
    "        callbacks=[checkpoint_cb]\n",
    "    )\n",
    "\n",
    "    # Save the training history to a JSON file\n",
    "    with open(f'./training_history.json', 'w') as f:\n",
    "        json.dump(history_lstm.history, f)\n",
    "\n",
    "    # Log and register the model with MLflow\n",
    "    mlflow.tensorflow.log_model(model=model_lstm, artifact_path=\"data/model/lstm\", registered_model_name=\"LSTM_Model\")\n",
    "\n",
    "# This registers the model under the name \"LSTM_Model\" in the MLflow Model Registry\n"
   ]
  },
  {
   "cell_type": "markdown",
   "metadata": {
    "deletable": true,
    "editable": true,
    "frozen": false
   },
   "source": [
    "# Validation"
   ]
  },
  {
   "cell_type": "markdown",
   "metadata": {
    "deletable": true,
    "editable": true,
    "frozen": false
   },
   "source": [
    "## Valiation of the FLSTM and LSTM models"
   ]
  },
  {
   "cell_type": "code",
   "execution_count": 18,
   "metadata": {
    "deletable": true,
    "editable": true,
    "execution": {
     "iopub.execute_input": "2025-03-31T15:04:41.302354Z",
     "iopub.status.busy": "2025-03-31T15:04:41.301631Z",
     "iopub.status.idle": "2025-03-31T15:04:42.215765Z",
     "shell.execute_reply": "2025-03-31T15:04:42.215492Z",
     "shell.execute_reply.started": "2025-03-31T15:04:41.302300Z"
    },
    "frozen": false
   },
   "outputs": [
    {
     "name": "stdout",
     "output_type": "stream",
     "text": [
      "\u001b[1m4/4\u001b[0m \u001b[32m━━━━━━━━━━━━━━━━━━━━\u001b[0m\u001b[37m\u001b[0m \u001b[1m1s\u001b[0m 81ms/step\n",
      "WARNING:tensorflow:5 out of the last 8 calls to <function TensorFlowTrainer.make_predict_function.<locals>.one_step_on_data_distributed at 0x74a4e4da6c00> triggered tf.function retracing. Tracing is expensive and the excessive number of tracings could be due to (1) creating @tf.function repeatedly in a loop, (2) passing tensors with different shapes, (3) passing Python objects instead of tensors. For (1), please define your @tf.function outside of the loop. For (2), @tf.function has reduce_retracing=True option that can avoid unnecessary retracing. For (3), please refer to https://www.tensorflow.org/guide/function#controlling_retracing and https://www.tensorflow.org/api_docs/python/tf/function for  more details.\n"
     ]
    },
    {
     "name": "stderr",
     "output_type": "stream",
     "text": [
      "WARNING:tensorflow:5 out of the last 8 calls to <function TensorFlowTrainer.make_predict_function.<locals>.one_step_on_data_distributed at 0x74a4e4da6c00> triggered tf.function retracing. Tracing is expensive and the excessive number of tracings could be due to (1) creating @tf.function repeatedly in a loop, (2) passing tensors with different shapes, (3) passing Python objects instead of tensors. For (1), please define your @tf.function outside of the loop. For (2), @tf.function has reduce_retracing=True option that can avoid unnecessary retracing. For (3), please refer to https://www.tensorflow.org/guide/function#controlling_retracing and https://www.tensorflow.org/api_docs/python/tf/function for  more details.\n"
     ]
    },
    {
     "name": "stdout",
     "output_type": "stream",
     "text": [
      "\u001b[1m4/4\u001b[0m \u001b[32m━━━━━━━━━━━━━━━━━━━━\u001b[0m\u001b[37m\u001b[0m \u001b[1m0s\u001b[0m 4ms/step \n",
      "Evaluation for FLSTM::::::::::::::::::::::::::::::::\n",
      "Mean Squared Error (MSE) on Validation Set for FLSTM is : 174775.8849243164\n",
      "Mean Absolute Error (MAE) on Validation Set for FLSTM : 300.92703125\n",
      "Root Mean Squared Error (RMSE) on Validation Set for FLSTM : 418.06205869980164\n",
      "Evaluation for LSTM::::::::::::::::::::::::::::::::\n",
      "Mean Squared Error (MSE) on Validation Set for LSTM is : 1624739.6534594726\n",
      "Mean Absolute Error (MAE) on Validation Set for LSTM is : 1219.66875\n",
      "Root Mean Squared Error (RMSE) on Validation Set for LSTM is : 1274.6527579931221\n"
     ]
    }
   ],
   "source": [
    "# Ensure the input shape for X_val_scaled is (num_samples, time_steps, num_features)\n",
    "# If X_val_scaled has the correct shape, you can proceed with prediction\n",
    "flstm_y_pred_val_scaled = model_flstm.predict(X_val_scaled)\n",
    "lstm_y_pred_val_scaled = model_lstm.predict(X_val_scaled)  \n",
    "\n",
    "# Inverse transform the predicted and actual values\n",
    "flstm_y_pred_val_original = scaler_y.inverse_transform(flstm_y_pred_val_scaled).flatten()\n",
    "lstm_y_pred_val_original = scaler_y.inverse_transform(lstm_y_pred_val_scaled).flatten()\n",
    "\n",
    "y_val_original = y_val  # If you haven't scaled y_val, keep it as is\n",
    "\n",
    "# Calculate evaluation metrics\n",
    "print(\"Evaluation for FLSTM::::::::::::::::::::::::::::::::\")\n",
    "mse = mean_squared_error(y_val_original, flstm_y_pred_val_original)\n",
    "mae = mean_absolute_error(y_val_original, flstm_y_pred_val_original)\n",
    "rmse = tf.sqrt(mse).numpy()\n",
    "# Print the evaluation results\n",
    "print(f\"Mean Squared Error (MSE) on Validation Set for FLSTM is : {mse}\")\n",
    "print(f\"Mean Absolute Error (MAE) on Validation Set for FLSTM : {mae}\")\n",
    "print(f\"Root Mean Squared Error (RMSE) on Validation Set for FLSTM : {rmse}\")\n",
    "print(\"Evaluation for LSTM::::::::::::::::::::::::::::::::\")\n",
    "mse = mean_squared_error(y_val_original, lstm_y_pred_val_original)\n",
    "mae = mean_absolute_error(y_val_original, lstm_y_pred_val_original)\n",
    "rmse = tf.sqrt(mse).numpy()\n",
    "# Print the evaluation results\n",
    "print(f\"Mean Squared Error (MSE) on Validation Set for LSTM is : {mse}\")\n",
    "print(f\"Mean Absolute Error (MAE) on Validation Set for LSTM is : {mae}\")\n",
    "print(f\"Root Mean Squared Error (RMSE) on Validation Set for LSTM is : {rmse}\")"
   ]
  },
  {
   "cell_type": "markdown",
   "metadata": {
    "deletable": true,
    "editable": true,
    "frozen": false
   },
   "source": [
    "## Ploting Predicted for FLSTM and LSTM and Actual"
   ]
  },
  {
   "cell_type": "code",
   "execution_count": 19,
   "metadata": {
    "deletable": true,
    "editable": true,
    "execution": {
     "iopub.execute_input": "2025-03-31T15:04:46.813142Z",
     "iopub.status.busy": "2025-03-31T15:04:46.812544Z",
     "iopub.status.idle": "2025-03-31T15:04:46.881682Z",
     "shell.execute_reply": "2025-03-31T15:04:46.881421Z",
     "shell.execute_reply.started": "2025-03-31T15:04:46.813105Z"
    },
    "frozen": false
   },
   "outputs": [
    {
     "data": {
      "image/png": "[encoded data removed]",
      "text/plain": [
       "<Figure size 1400x700 with 1 Axes>"
      ]
     },
     "metadata": {},
     "output_type": "display_data"
    }
   ],
   "source": [
    "# Plotting the actual vs predicted values\n",
    "plt.figure(figsize=(14, 7))\n",
    "plt.plot(y_val_original, label='Actual Values', color='green', alpha=0.6)\n",
    "plt.plot(flstm_y_pred_val_original, label='Predicted flstm', color='red', alpha=0.6)\n",
    "plt.plot(lstm_y_pred_val_original, label='Predicted lstm', color='blue', alpha=0.6)\n",
    "\n",
    "plt.title('Actual vs Predicted Values on Validation Set')\n",
    "plt.xlabel('Samples')\n",
    "plt.ylabel('Target Variable')\n",
    "plt.legend()\n",
    "plt.grid()\n",
    "plt.show()"
   ]
  }
 ],
 "metadata": {
  "accelerator": "GPU",
  "colab": {
   "provenance": []
  },
  "kernelspec": {
   "display_name": "tf-gpu2",
   "language": "python",
   "name": "tf-gpu2"
  },
  "language_info": {
   "codemirror_mode": {
    "name": "ipython",
    "version": 3
   },
   "file_extension": ".py",
   "mimetype": "text/x-python",
   "name": "python",
   "nbconvert_exporter": "python",
   "pygments_lexer": "ipython3",
   "version": "3.11.11"
  },
  "toc-autonumbering": false,
  "toc-showcode": false,
  "toc-showmarkdowntxt": false,
  "widgets": {
   "application/vnd.jupyter.widget-state+json": {
    "state": {},
    "version_major": 2,
    "version_minor": 0
   }
  }
 },
 "nbformat": 4,
 "nbformat_minor": 4
}
